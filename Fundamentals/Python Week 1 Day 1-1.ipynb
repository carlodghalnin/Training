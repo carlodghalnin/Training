{
 "cells": [
  {
   "cell_type": "markdown",
   "id": "7c5b3640",
   "metadata": {},
   "source": [
    "Python Data Types."
   ]
  },
  {
   "cell_type": "code",
   "execution_count": 2,
   "id": "f319fabd",
   "metadata": {},
   "outputs": [
    {
     "name": "stdout",
     "output_type": "stream",
     "text": [
      "(1, '2', 3.3, 'a', 'g', 'hello') is of <class 'tuple'>\n"
     ]
    }
   ],
   "source": [
    "#Tuples\n",
    "tup = (1,'2',3.3)\n",
    "put = ('a','g','hello')\n",
    "seq = tup + put\n",
    "print(f'{seq} is of {type(seq)}')"
   ]
  },
  {
   "cell_type": "code",
   "execution_count": 3,
   "id": "497481c3",
   "metadata": {},
   "outputs": [
    {
     "data": {
      "text/plain": [
       "list"
      ]
     },
     "execution_count": 3,
     "metadata": {},
     "output_type": "execute_result"
    }
   ],
   "source": [
    "#Lists\n",
    "lst = [1,2,3]\n",
    "type(lst)"
   ]
  },
  {
   "cell_type": "code",
   "execution_count": 4,
   "id": "ad305555",
   "metadata": {},
   "outputs": [
    {
     "ename": "TypeError",
     "evalue": "'str' object does not support item assignment",
     "output_type": "error",
     "traceback": [
      "\u001b[1;31m---------------------------------------------------------------------------\u001b[0m",
      "\u001b[1;31mTypeError\u001b[0m                                 Traceback (most recent call last)",
      "\u001b[1;32m<ipython-input-4-8c8ed5cee220>\u001b[0m in \u001b[0;36m<module>\u001b[1;34m\u001b[0m\n\u001b[0;32m      1\u001b[0m \u001b[0ms\u001b[0m \u001b[1;33m=\u001b[0m \u001b[1;34m'string'\u001b[0m\u001b[1;33m\u001b[0m\u001b[1;33m\u001b[0m\u001b[0m\n\u001b[1;32m----> 2\u001b[1;33m \u001b[0ms\u001b[0m\u001b[1;33m[\u001b[0m\u001b[1;36m0\u001b[0m\u001b[1;33m]\u001b[0m \u001b[1;33m=\u001b[0m \u001b[1;34m'S'\u001b[0m\u001b[1;33m\u001b[0m\u001b[1;33m\u001b[0m\u001b[0m\n\u001b[0m",
      "\u001b[1;31mTypeError\u001b[0m: 'str' object does not support item assignment"
     ]
    }
   ],
   "source": [
    "s = 'string'\n",
    "s[0] = 'S'"
   ]
  },
  {
   "cell_type": "code",
   "execution_count": 21,
   "id": "fdf96b13",
   "metadata": {},
   "outputs": [
    {
     "name": "stdout",
     "output_type": "stream",
     "text": [
      "[4, 2, 3]\n",
      "[4, 2, 3, [1, 5, 6]]\n",
      "[4, 2, 3]\n"
     ]
    }
   ],
   "source": [
    "t = [1,2,3]\n",
    "\n",
    "t[0] = 4\n",
    "print(t)\n",
    "\n",
    "t.append([1,5,6])\n",
    "print(t)\n",
    "\n",
    "del(t[3])\n",
    "print(t)"
   ]
  },
  {
   "cell_type": "code",
   "execution_count": 1,
   "id": "b210eec3",
   "metadata": {},
   "outputs": [
    {
     "name": "stdout",
     "output_type": "stream",
     "text": [
      "['from Heena', 'Dholakia@npowercanada', 'ca']\n"
     ]
    },
    {
     "data": {
      "text/plain": [
       "['Dholakia', 'npowercanada']"
      ]
     },
     "execution_count": 1,
     "metadata": {},
     "output_type": "execute_result"
    }
   ],
   "source": [
    "a = 'from Heena.Dholakia@npowercanada.ca'\n",
    "b = a.split('.')\n",
    "print(b)\n",
    "b[1].split('@')"
   ]
  },
  {
   "cell_type": "code",
   "execution_count": null,
   "id": "4f163322",
   "metadata": {},
   "outputs": [],
   "source": []
  }
 ],
 "metadata": {
  "kernelspec": {
   "display_name": "Python 3",
   "language": "python",
   "name": "python3"
  },
  "language_info": {
   "codemirror_mode": {
    "name": "ipython",
    "version": 3
   },
   "file_extension": ".py",
   "mimetype": "text/x-python",
   "name": "python",
   "nbconvert_exporter": "python",
   "pygments_lexer": "ipython3",
   "version": "3.8.8"
  }
 },
 "nbformat": 4,
 "nbformat_minor": 5
}
