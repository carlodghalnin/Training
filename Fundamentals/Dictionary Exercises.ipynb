{
 "cells": [
  {
   "cell_type": "markdown",
   "id": "56931c58",
   "metadata": {},
   "source": [
    "JDA participant dictionary: first letter as key, names as values."
   ]
  },
  {
   "cell_type": "code",
   "execution_count": 23,
   "id": "84706167",
   "metadata": {},
   "outputs": [
    {
     "data": {
      "text/plain": [
       "{'S': ('Sravan', 'Sameeha', 'Supriya'),\n",
       " 'K': ('Karthik', 'Kamiar'),\n",
       " 'C': ('Cici', 'Carlo', 'Claire')}"
      ]
     },
     "execution_count": 23,
     "metadata": {},
     "output_type": "execute_result"
    }
   ],
   "source": [
    "#Q1 Create a dictionary for all participants in the JDA program.\n",
    "#Keys should be the first letter in their names, Values should be their names.\n",
    "#[Hint] dic={\"l\":(Leul),\"J\":(Jerry,Jainam)........}\n",
    "jda = {'S':('Sravan','Sameeha','Supriya'),'K':('Karthik','Kamiar'),'C':('Cici','Carlo','Claire')}\n",
    "jda"
   ]
  },
  {
   "cell_type": "markdown",
   "id": "a514a2ec",
   "metadata": {},
   "source": [
    "Dictionary keys."
   ]
  },
  {
   "cell_type": "code",
   "execution_count": 24,
   "id": "25316a93",
   "metadata": {},
   "outputs": [
    {
     "data": {
      "text/plain": [
       "dict_keys(['S', 'K', 'C'])"
      ]
     },
     "execution_count": 24,
     "metadata": {},
     "output_type": "execute_result"
    }
   ],
   "source": [
    "#Q2 What are the keys of your dictionary\n",
    "jda.keys()"
   ]
  },
  {
   "cell_type": "markdown",
   "id": "72349c91",
   "metadata": {},
   "source": [
    "Dictionary values."
   ]
  },
  {
   "cell_type": "code",
   "execution_count": 25,
   "id": "653cf598",
   "metadata": {},
   "outputs": [
    {
     "data": {
      "text/plain": [
       "dict_values([('Sravan', 'Sameeha', 'Supriya'), ('Karthik', 'Kamiar'), ('Cici', 'Carlo', 'Claire')])"
      ]
     },
     "execution_count": 25,
     "metadata": {},
     "output_type": "execute_result"
    }
   ],
   "source": [
    "#Q3 What are the values of your dictionary\n",
    "jda.values()"
   ]
  },
  {
   "cell_type": "markdown",
   "id": "e9a33d64",
   "metadata": {},
   "source": [
    "Find names that start with C."
   ]
  },
  {
   "cell_type": "code",
   "execution_count": 36,
   "id": "26901ef7",
   "metadata": {},
   "outputs": [
    {
     "data": {
      "text/plain": [
       "(('Cici', 'Carlo', 'Claire'), ('Karthik', 'Kamiar'))"
      ]
     },
     "execution_count": 36,
     "metadata": {},
     "output_type": "execute_result"
    }
   ],
   "source": [
    "#Q4 Find participant's names that start with J,I,M,C,A\n",
    "jda.get('C'), jda['K']#, jda['A']"
   ]
  },
  {
   "cell_type": "markdown",
   "id": "f3080d03",
   "metadata": {},
   "source": [
    "Adding keys, values."
   ]
  },
  {
   "cell_type": "code",
   "execution_count": 39,
   "id": "f65177f3",
   "metadata": {},
   "outputs": [
    {
     "data": {
      "text/plain": [
       "{'S': ('Sravan', 'Sameeha', 'Supriya'),\n",
       " 'K': ('Karthik', 'Kamiar'),\n",
       " 'C': ('Cici', 'Carlo', 'Claire'),\n",
       " ('K', 'PD'): ('Kristina',)}"
      ]
     },
     "execution_count": 39,
     "metadata": {},
     "output_type": "execute_result"
    }
   ],
   "source": [
    "#Q5 Add the following to your dictionary\n",
    "# Key<(K,PD)>, Value<(Kristina)>\n",
    "jda[('K','PD')] = ('Kristina',)\n",
    "jda"
   ]
  },
  {
   "cell_type": "markdown",
   "id": "ae1b47c2",
   "metadata": {},
   "source": [
    "Length of dictionary."
   ]
  },
  {
   "cell_type": "code",
   "execution_count": 44,
   "id": "089d50ea",
   "metadata": {},
   "outputs": [
    {
     "data": {
      "text/plain": [
       "4"
      ]
     },
     "execution_count": 44,
     "metadata": {},
     "output_type": "execute_result"
    }
   ],
   "source": [
    "#Q6 Find the length of your dictionary\n",
    "len(jda)"
   ]
  },
  {
   "cell_type": "code",
   "execution_count": 45,
   "id": "e06f3855",
   "metadata": {},
   "outputs": [
    {
     "data": {
      "text/plain": [
       "{'S': ('Sravan', 'Sameeha', 'Supriya'),\n",
       " 'K': ('Karthik', 'Kamiar'),\n",
       " 'C': ('Cici', 'Carlo', 'Claire'),\n",
       " ('K', 'PD'): ('Kristina',),\n",
       " ('S', 'Instruactor'): ('Sarah',)}"
      ]
     },
     "execution_count": 45,
     "metadata": {},
     "output_type": "execute_result"
    }
   ],
   "source": [
    "#Q7 Add the following to your dictionary\n",
    "# Key<(S,Instructor)>, Value<(Sarah)>\n",
    "jda[('S','Instruactor')] = ('Sarah',)\n",
    "jda"
   ]
  },
  {
   "cell_type": "code",
   "execution_count": 46,
   "id": "a7928c70",
   "metadata": {},
   "outputs": [
    {
     "data": {
      "text/plain": [
       "5"
      ]
     },
     "execution_count": 46,
     "metadata": {},
     "output_type": "execute_result"
    }
   ],
   "source": [
    "len(jda)"
   ]
  },
  {
   "cell_type": "code",
   "execution_count": 51,
   "id": "170f4250",
   "metadata": {},
   "outputs": [
    {
     "data": {
      "text/plain": [
       "{}"
      ]
     },
     "execution_count": 51,
     "metadata": {},
     "output_type": "execute_result"
    }
   ],
   "source": [
    "#Q10 Create a new dictionary called synonyms_dic\n",
    "synonyms_dic = dict([])\n",
    "synonyms_dic"
   ]
  },
  {
   "cell_type": "code",
   "execution_count": 55,
   "id": "8f38875c",
   "metadata": {},
   "outputs": [
    {
     "data": {
      "text/plain": [
       "{'Bad': ['Terrible', 'Horrible'], 'Good': ['Awesome', 'Great']}"
      ]
     },
     "execution_count": 55,
     "metadata": {},
     "output_type": "execute_result"
    }
   ],
   "source": [
    "#Q11 Add the synonyms of the following words to your dictionary\n",
    "#Bad, Good, Awesome, Cold, Easy, Hard, Big, Small\n",
    "synonyms_dic['Bad'] = ['Terrible','Horrible']\n",
    "synonyms_dic['Good'] = ['Awesome','Great']\n",
    "synonyms_dic"
   ]
  },
  {
   "cell_type": "code",
   "execution_count": 57,
   "id": "fc2e1d4d",
   "metadata": {},
   "outputs": [
    {
     "data": {
      "text/plain": [
       "['Awesome', 'Great']"
      ]
     },
     "execution_count": 57,
     "metadata": {},
     "output_type": "execute_result"
    }
   ],
   "source": [
    "#Q12 Use your dictionary to find the synonym of the following words\n",
    "# Awesome, Easy, Small, Old\n",
    "synonyms_dic.get('Good')"
   ]
  },
  {
   "cell_type": "code",
   "execution_count": 62,
   "id": "99db24ba",
   "metadata": {},
   "outputs": [
    {
     "data": {
      "text/plain": [
       "{}"
      ]
     },
     "execution_count": 62,
     "metadata": {},
     "output_type": "execute_result"
    }
   ],
   "source": [
    "#Q13 Delete everything from synonyms_dic\n",
    "#del(synonyms_dic)\n",
    "synonyms_dic.clear()\n",
    "synonyms_dic"
   ]
  },
  {
   "cell_type": "code",
   "execution_count": 63,
   "id": "0e02717a",
   "metadata": {},
   "outputs": [
    {
     "data": {
      "text/plain": [
       "dict_values([])"
      ]
     },
     "execution_count": 63,
     "metadata": {},
     "output_type": "execute_result"
    }
   ],
   "source": [
    "#Q14 Print all values in synonyms_dic\n",
    "synonyms_dic.values()"
   ]
  },
  {
   "cell_type": "code",
   "execution_count": 65,
   "id": "6e5c128e",
   "metadata": {},
   "outputs": [
    {
     "data": {
      "text/plain": [
       "{'True': 1, 'False': 0}"
      ]
     },
     "execution_count": 65,
     "metadata": {},
     "output_type": "execute_result"
    }
   ],
   "source": [
    "#Q15 Convert the below two lists into dictionary\n",
    "Keys=[\"True\",\"False\"]\n",
    "Values=[1,0]\n",
    "Dictionary = {Keys:Values for Keys, Values in zip(Keys, Values)}\n",
    "Dictionary"
   ]
  },
  {
   "cell_type": "code",
   "execution_count": 66,
   "id": "b78566ab",
   "metadata": {},
   "outputs": [
    {
     "data": {
      "text/plain": [
       "4480"
      ]
     },
     "execution_count": 66,
     "metadata": {},
     "output_type": "execute_result"
    }
   ],
   "source": [
    "#Q16 Sum all the values in the following dictionary\n",
    "income={'Jan':1000,'Feb':1500,'Mar':980,'April':1000}\n",
    "sum(income.values())"
   ]
  },
  {
   "cell_type": "code",
   "execution_count": 82,
   "id": "52e805ff",
   "metadata": {},
   "outputs": [
    {
     "name": "stdout",
     "output_type": "stream",
     "text": [
      "I am hungry\n",
      "I\n",
      "am\n",
      "hungry\n"
     ]
    }
   ],
   "source": [
    "#Q17 Create the following dictionary encryption={10:\"hungry\", 101:\"am\", 110:\"I\",)\n",
    "# What should be the decryption of the following code \"110 101 10\" 1011 110 1001 1\n",
    "\n",
    "encryption = {10:\"hungry\", 101:\"am\", 110:\"I\"}\n",
    "code = \"110 101 10\"\n",
    "print(encryption.get(110),encryption.get(101), encryption.get(10))\n",
    "\n",
    "#code.split(' ')\n",
    "for word in code.split(' '):\n",
    "    print(encryption.get(int(word)))"
   ]
  },
  {
   "cell_type": "code",
   "execution_count": null,
   "id": "00bff08d",
   "metadata": {},
   "outputs": [],
   "source": []
  }
 ],
 "metadata": {
  "kernelspec": {
   "display_name": "Python 3",
   "language": "python",
   "name": "python3"
  },
  "language_info": {
   "codemirror_mode": {
    "name": "ipython",
    "version": 3
   },
   "file_extension": ".py",
   "mimetype": "text/x-python",
   "name": "python",
   "nbconvert_exporter": "python",
   "pygments_lexer": "ipython3",
   "version": "3.8.8"
  }
 },
 "nbformat": 4,
 "nbformat_minor": 5
}
