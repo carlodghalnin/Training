{
 "cells": [
  {
   "cell_type": "markdown",
   "id": "85646375",
   "metadata": {},
   "source": [
    "Write a Python program to check a list is empty or not."
   ]
  },
  {
   "cell_type": "code",
   "execution_count": 1,
   "id": "17447d0d",
   "metadata": {},
   "outputs": [
    {
     "data": {
      "text/plain": [
       "False"
      ]
     },
     "execution_count": 1,
     "metadata": {},
     "output_type": "execute_result"
    }
   ],
   "source": [
    "lst = [2,3]\n",
    "lst == []"
   ]
  },
  {
   "cell_type": "markdown",
   "id": "9cce6b58",
   "metadata": {},
   "source": [
    "Write a Python program to print a specified list after removing the 0th, 4th\n",
    "and 5th elements. "
   ]
  },
  {
   "cell_type": "code",
   "execution_count": 20,
   "id": "c68b510b",
   "metadata": {},
   "outputs": [
    {
     "data": {
      "text/plain": [
       "['Green', 'White', 'Black']"
      ]
     },
     "execution_count": 20,
     "metadata": {},
     "output_type": "execute_result"
    }
   ],
   "source": [
    "lst = ['Red','Green','White','Black','Pink','Yellow']\n",
    "new_lst = []\n",
    "#print(range(len(lst)+1))\n",
    "for word, i in zip(lst,range(len(lst))):\n",
    "    if i not in (0,4,5):\n",
    "        new_lst.append(word)\n",
    "new_lst"
   ]
  },
  {
   "cell_type": "markdown",
   "id": "80498d0a",
   "metadata": {},
   "source": [
    "Write a Python program to find the index of an item in a specified list."
   ]
  },
  {
   "cell_type": "code",
   "execution_count": 23,
   "id": "108c4e3a",
   "metadata": {},
   "outputs": [
    {
     "data": {
      "text/plain": [
       "2"
      ]
     },
     "execution_count": 23,
     "metadata": {},
     "output_type": "execute_result"
    }
   ],
   "source": [
    "slst = ['Zero','One','Two']\n",
    "item = 'Two'\n",
    "slst.index(item)"
   ]
  },
  {
   "cell_type": "markdown",
   "id": "c5e8b2cc",
   "metadata": {},
   "source": [
    "Write a Python program to convert a tuple to a string."
   ]
  },
  {
   "cell_type": "code",
   "execution_count": 26,
   "id": "e32e1f11",
   "metadata": {},
   "outputs": [
    {
     "data": {
      "text/plain": [
       "'123'"
      ]
     },
     "execution_count": 26,
     "metadata": {},
     "output_type": "execute_result"
    }
   ],
   "source": [
    "tup = (1,2,3)\n",
    "stup = ''\n",
    "for item in tup:\n",
    "    stup += str(item)\n",
    "stup"
   ]
  },
  {
   "cell_type": "markdown",
   "id": "505a7cad",
   "metadata": {},
   "source": [
    "Write a Python program to find the repeated items of a tuple."
   ]
  },
  {
   "cell_type": "code",
   "execution_count": 31,
   "id": "9d4ccc21",
   "metadata": {},
   "outputs": [
    {
     "data": {
      "text/plain": [
       "[2, 3, 3]"
      ]
     },
     "execution_count": 31,
     "metadata": {},
     "output_type": "execute_result"
    }
   ],
   "source": [
    "tup = (1,2,2,3,3,3)\n",
    "temp = []\n",
    "rep = []\n",
    "for item in tup:\n",
    "    if item not in temp:\n",
    "        temp.append(item)\n",
    "    else:\n",
    "        rep.append(item)\n",
    "#rep = set(rep)\n",
    "rep\n",
    "    "
   ]
  },
  {
   "cell_type": "markdown",
   "id": "f0c83fb7",
   "metadata": {},
   "source": [
    "Write a Python program to slice a tuple."
   ]
  },
  {
   "cell_type": "code",
   "execution_count": 32,
   "id": "653a9046",
   "metadata": {},
   "outputs": [
    {
     "data": {
      "text/plain": [
       "(1, 2)"
      ]
     },
     "execution_count": 32,
     "metadata": {},
     "output_type": "execute_result"
    }
   ],
   "source": [
    "tup = (0,1,2,3,4,5)\n",
    "tup[1:3]"
   ]
  },
  {
   "cell_type": "markdown",
   "id": "51ab410b",
   "metadata": {},
   "source": [
    "Write a Python script to concatenate following dictionaries to create a new one."
   ]
  },
  {
   "cell_type": "code",
   "execution_count": 2,
   "id": "d3c8bcfe",
   "metadata": {},
   "outputs": [
    {
     "name": "stdout",
     "output_type": "stream",
     "text": [
      "{1: 10, 2: 20, 3: 30, 4: 40, 5: 50, 6: 60}\n"
     ]
    }
   ],
   "source": [
    "dic1={1:10, 2:20}\n",
    "dic2={3:30, 4:40}\n",
    "dic3={5:50, 6:60}\n",
    "\n",
    "dic1.update(dic2)\n",
    "dic1.update(dic3)\n",
    "#dic = dic.update(dic3)\n",
    "print(dic1)"
   ]
  },
  {
   "cell_type": "markdown",
   "id": "98f07230",
   "metadata": {},
   "source": [
    "Write a Python program to add member(s) in a set."
   ]
  },
  {
   "cell_type": "code",
   "execution_count": 42,
   "id": "224e9de7",
   "metadata": {},
   "outputs": [
    {
     "data": {
      "text/plain": [
       "{1, 2, 3, 4, 5}"
      ]
     },
     "execution_count": 42,
     "metadata": {},
     "output_type": "execute_result"
    }
   ],
   "source": [
    "s1 = {1,2,3}\n",
    "s2 = {3,4,5}\n",
    "s = s1.union(s2)\n",
    "s"
   ]
  },
  {
   "cell_type": "markdown",
   "id": "9d67987f",
   "metadata": {},
   "source": [
    "Write a Python program to check if a set is a subset of another set."
   ]
  },
  {
   "cell_type": "code",
   "execution_count": 44,
   "id": "39139491",
   "metadata": {},
   "outputs": [
    {
     "name": "stdout",
     "output_type": "stream",
     "text": [
      "True\n",
      "False\n"
     ]
    }
   ],
   "source": [
    "s1 = {1,2,3}\n",
    "s2 = {3,4,5}\n",
    "s3 = {1,2}\n",
    "\n",
    "print(s3.issubset(s1))\n",
    "print(s2.issubset(s1))"
   ]
  },
  {
   "cell_type": "markdown",
   "id": "ee5dcce6",
   "metadata": {},
   "source": [
    "Write a Python program to find maximum and the minimum value in a set."
   ]
  },
  {
   "cell_type": "code",
   "execution_count": 46,
   "id": "a01f54c3",
   "metadata": {},
   "outputs": [
    {
     "name": "stdout",
     "output_type": "stream",
     "text": [
      "Set {1, 2, 3} has max 3 and min 1.\n"
     ]
    }
   ],
   "source": [
    "s1 = {1,2,3}\n",
    "print(f'Set {s1} has max {max(s1)} and min {min(s1)}.')"
   ]
  },
  {
   "cell_type": "code",
   "execution_count": 1,
   "id": "73ccf8d9",
   "metadata": {},
   "outputs": [
    {
     "data": {
      "text/plain": [
       "True"
      ]
     },
     "execution_count": 1,
     "metadata": {},
     "output_type": "execute_result"
    }
   ],
   "source": [
    "not []"
   ]
  },
  {
   "cell_type": "code",
   "execution_count": null,
   "id": "176464d2",
   "metadata": {},
   "outputs": [],
   "source": []
  }
 ],
 "metadata": {
  "kernelspec": {
   "display_name": "Python 3",
   "language": "python",
   "name": "python3"
  },
  "language_info": {
   "codemirror_mode": {
    "name": "ipython",
    "version": 3
   },
   "file_extension": ".py",
   "mimetype": "text/x-python",
   "name": "python",
   "nbconvert_exporter": "python",
   "pygments_lexer": "ipython3",
   "version": "3.8.8"
  }
 },
 "nbformat": 4,
 "nbformat_minor": 5
}
