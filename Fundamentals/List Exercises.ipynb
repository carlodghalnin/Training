{
 "cells": [
  {
   "cell_type": "markdown",
   "id": "3b6771b5",
   "metadata": {},
   "source": [
    "Tuple of all JDA members."
   ]
  },
  {
   "cell_type": "code",
   "execution_count": 1,
   "id": "3ca851f3",
   "metadata": {},
   "outputs": [
    {
     "data": {
      "text/plain": [
       "['Maria', 'Meelad', 'Mohammed', 'Fatma']"
      ]
     },
     "execution_count": 1,
     "metadata": {},
     "output_type": "execute_result"
    }
   ],
   "source": [
    "jda = ['Maria','Meelad',\"Mohammed\", 'Fatma']\n",
    "jda"
   ]
  },
  {
   "cell_type": "markdown",
   "id": "e522abb7",
   "metadata": {},
   "source": [
    "Convert to list pps_L."
   ]
  },
  {
   "cell_type": "code",
   "execution_count": 2,
   "id": "00fc6062",
   "metadata": {},
   "outputs": [
    {
     "data": {
      "text/plain": [
       "['Maria', 'Meelad', 'Mohammed', 'Fatma']"
      ]
     },
     "execution_count": 2,
     "metadata": {},
     "output_type": "execute_result"
    }
   ],
   "source": [
    "pps_L = list(jda)\n",
    "pps_L"
   ]
  },
  {
   "cell_type": "markdown",
   "id": "01197ab9",
   "metadata": {},
   "source": [
    "Length of list."
   ]
  },
  {
   "cell_type": "code",
   "execution_count": 3,
   "id": "eeaf0dd4",
   "metadata": {},
   "outputs": [
    {
     "data": {
      "text/plain": [
       "4"
      ]
     },
     "execution_count": 3,
     "metadata": {},
     "output_type": "execute_result"
    }
   ],
   "source": [
    "len(pps_L)"
   ]
  },
  {
   "cell_type": "markdown",
   "id": "4829847d",
   "metadata": {},
   "source": [
    "Values in indices."
   ]
  },
  {
   "cell_type": "code",
   "execution_count": 4,
   "id": "08f1b141",
   "metadata": {},
   "outputs": [
    {
     "data": {
      "text/plain": [
       "'Fatma'"
      ]
     },
     "execution_count": 4,
     "metadata": {},
     "output_type": "execute_result"
    }
   ],
   "source": [
    "pps_L[3]"
   ]
  },
  {
   "cell_type": "markdown",
   "id": "4e6ab04e",
   "metadata": {},
   "source": [
    "List membership for 'Sarah' and 'Bashir'."
   ]
  },
  {
   "cell_type": "code",
   "execution_count": 5,
   "id": "b17265a4",
   "metadata": {},
   "outputs": [
    {
     "name": "stdout",
     "output_type": "stream",
     "text": [
      "False\n",
      "False\n"
     ]
    },
    {
     "data": {
      "text/plain": [
       "['Maria', 'Meelad', 'Mohammed', 'Fatma', 'Sarah', 'Bashir']"
      ]
     },
     "execution_count": 5,
     "metadata": {},
     "output_type": "execute_result"
    }
   ],
   "source": [
    "print('Sarah' in pps_L)\n",
    "pps_L.append('Sarah')\n",
    "print('Bashir' in pps_L)\n",
    "pps_L.append('Bashir')\n",
    "pps_L"
   ]
  },
  {
   "cell_type": "markdown",
   "id": "63718106",
   "metadata": {},
   "source": [
    "Indices and assignment."
   ]
  },
  {
   "cell_type": "code",
   "execution_count": 9,
   "id": "6decdf9b",
   "metadata": {},
   "outputs": [
    {
     "name": "stdout",
     "output_type": "stream",
     "text": [
      "4\n",
      "5\n"
     ]
    },
    {
     "data": {
      "text/plain": [
       "['Maria', 'Meelad', 'Mohammed', 'Fatma', 'Instructor', 'Peer-Mentor']"
      ]
     },
     "execution_count": 9,
     "metadata": {},
     "output_type": "execute_result"
    }
   ],
   "source": [
    "print(pps_L.index(\"Sarah\"))\n",
    "print(pps_L.index(\"Bashir\"))\n",
    "pps_L[4] = 'Instructor'\n",
    "pps_L[5] = 'Peer-Mentor'\n",
    "pps_L"
   ]
  },
  {
   "cell_type": "code",
   "execution_count": null,
   "id": "f8b83a6d",
   "metadata": {},
   "outputs": [],
   "source": []
  }
 ],
 "metadata": {
  "kernelspec": {
   "display_name": "Python 3",
   "language": "python",
   "name": "python3"
  },
  "language_info": {
   "codemirror_mode": {
    "name": "ipython",
    "version": 3
   },
   "file_extension": ".py",
   "mimetype": "text/x-python",
   "name": "python",
   "nbconvert_exporter": "python",
   "pygments_lexer": "ipython3",
   "version": "3.8.8"
  }
 },
 "nbformat": 4,
 "nbformat_minor": 5
}
