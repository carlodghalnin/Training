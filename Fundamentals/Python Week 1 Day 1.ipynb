{
 "cells": [
  {
   "cell_type": "markdown",
   "id": "72243211",
   "metadata": {},
   "source": [
    "Solve (x+y)\\*(x-y). Test with x = 4, y = 3."
   ]
  },
  {
   "cell_type": "code",
   "execution_count": 1,
   "id": "4f2c5223",
   "metadata": {},
   "outputs": [
    {
     "name": "stdout",
     "output_type": "stream",
     "text": [
      "49\n"
     ]
    }
   ],
   "source": [
    "x = 4\n",
    "y = 3\n",
    "z = (x + y)*(x + y)\n",
    "print(z)"
   ]
  },
  {
   "cell_type": "markdown",
   "id": "b2a4765a",
   "metadata": {},
   "source": [
    "Parse string to float or int."
   ]
  },
  {
   "cell_type": "code",
   "execution_count": 4,
   "id": "d2723be8",
   "metadata": {},
   "outputs": [
    {
     "name": "stdout",
     "output_type": "stream",
     "text": [
      "23.0 and 23\n"
     ]
    }
   ],
   "source": [
    "num = '23'\n",
    "a = float(num)\n",
    "b = int(num)\n",
    "print(a, 'and', b)"
   ]
  },
  {
   "cell_type": "markdown",
   "id": "42e6fb00",
   "metadata": {},
   "source": [
    "Find sum of first n positive integers."
   ]
  },
  {
   "cell_type": "code",
   "execution_count": 34,
   "id": "6c418090",
   "metadata": {},
   "outputs": [
    {
     "name": "stdout",
     "output_type": "stream",
     "text": [
      "15\n"
     ]
    }
   ],
   "source": [
    "integers = 5\n",
    "summed = 0\n",
    "for i in range(integers + 1):\n",
    "    summed = summed + i\n",
    "print(summed)"
   ]
  },
  {
   "cell_type": "markdown",
   "id": "34346aba",
   "metadata": {},
   "source": [
    "Convert feet to inches, yards, and miles."
   ]
  },
  {
   "cell_type": "code",
   "execution_count": 10,
   "id": "cf0ce630",
   "metadata": {},
   "outputs": [
    {
     "name": "stdout",
     "output_type": "stream",
     "text": [
      "10000 feet is 120000 inches, 3333.3333333333335 yards, or 1.893939393939394 miles.\n"
     ]
    }
   ],
   "source": [
    "feet = 10000\n",
    "inches = 12*feet\n",
    "yards = feet/3\n",
    "miles = feet/5280\n",
    "print(f'{feet} feet is {inches} inches, {yards} yards, or {miles} miles.')"
   ]
  },
  {
   "cell_type": "markdown",
   "id": "a4461b33",
   "metadata": {},
   "source": [
    "Convert all units of time into seconds."
   ]
  },
  {
   "cell_type": "code",
   "execution_count": 13,
   "id": "05b545c8",
   "metadata": {},
   "outputs": [
    {
     "name": "stdout",
     "output_type": "stream",
     "text": [
      "1 minutes = 60 seconds, 1 hours = 3600 seconds\n"
     ]
    }
   ],
   "source": [
    "minutes = 1\n",
    "min_s = minutes*60\n",
    "hours = 1\n",
    "hour_s = hours*3600\n",
    "print(f'{minutes} minutes = {min_s} seconds, {hours} hours = {hour_s} seconds')"
   ]
  },
  {
   "cell_type": "markdown",
   "id": "ff65d269",
   "metadata": {},
   "source": [
    "Convert seconds to days, hours, minutes, and seconds."
   ]
  },
  {
   "cell_type": "code",
   "execution_count": 21,
   "id": "46928ce2",
   "metadata": {},
   "outputs": [
    {
     "name": "stdout",
     "output_type": "stream",
     "text": [
      "120001 seconds = 1d + 9h + 20m + 1s\n"
     ]
    }
   ],
   "source": [
    "time = 120001\n",
    "days = time//86400\n",
    "hours = (time - days * 86400)//3600\n",
    "minutes = (time - days * 86400 - hours * 3600)//60\n",
    "seconds = time - days * 86400 - hours * 3600 - minutes * 60\n",
    "print(f'{time} seconds = {days}d + {hours}h + {minutes}m + {seconds}s')"
   ]
  },
  {
   "cell_type": "markdown",
   "id": "39fba3c8",
   "metadata": {},
   "source": [
    "x = 30 and y = 20, print \"30+20=50\"."
   ]
  },
  {
   "cell_type": "code",
   "execution_count": 22,
   "id": "f843b5a7",
   "metadata": {},
   "outputs": [
    {
     "name": "stdout",
     "output_type": "stream",
     "text": [
      "30+20=50\n"
     ]
    }
   ],
   "source": [
    "x = 30\n",
    "y = 20\n",
    "print(f'{x}+{y}={x+y}')"
   ]
  },
  {
   "cell_type": "markdown",
   "id": "5fa0b517",
   "metadata": {},
   "source": [
    "If value is 1, display \"First day of a month!\". Do nothing otherwise."
   ]
  },
  {
   "cell_type": "code",
   "execution_count": 24,
   "id": "c0a37bcd",
   "metadata": {},
   "outputs": [
    {
     "name": "stdout",
     "output_type": "stream",
     "text": [
      "First day of a month!\n"
     ]
    }
   ],
   "source": [
    "day = 1\n",
    "if day == 1:\n",
    "    print('First day of a month!')\n",
    "else:\n",
    "    pass"
   ]
  },
  {
   "cell_type": "markdown",
   "id": "e40cd100",
   "metadata": {},
   "source": [
    "Check if variable int or string."
   ]
  },
  {
   "cell_type": "code",
   "execution_count": 5,
   "id": "74fc0010",
   "metadata": {
    "scrolled": true
   },
   "outputs": [
    {
     "name": "stdout",
     "output_type": "stream",
     "text": [
      "Variable is int.\n"
     ]
    }
   ],
   "source": [
    "sample = 2\n",
    "if isinstance(sample, int):\n",
    "    print('Variable is int.')\n",
    "elif isinstance(sample, str):\n",
    "    print('Variable is str.')\n",
    "else:\n",
    "    print('Variable is neither str nor int.')"
   ]
  },
  {
   "cell_type": "markdown",
   "id": "79388201",
   "metadata": {},
   "source": [
    "Write function to get max and min from a sequence of numbers."
   ]
  },
  {
   "cell_type": "code",
   "execution_count": 1,
   "id": "5c0072f6",
   "metadata": {
    "scrolled": true
   },
   "outputs": [
    {
     "data": {
      "text/plain": [
       "(1, 123)"
      ]
     },
     "execution_count": 1,
     "metadata": {},
     "output_type": "execute_result"
    }
   ],
   "source": [
    "num = [1,6,8,123]\n",
    "def maxmin(num):\n",
    "    return min(num), max(num)\n",
    "maxmin(num)"
   ]
  },
  {
   "cell_type": "code",
   "execution_count": null,
   "id": "e63307fe",
   "metadata": {},
   "outputs": [],
   "source": []
  },
  {
   "cell_type": "code",
   "execution_count": null,
   "id": "24b7dbe3",
   "metadata": {},
   "outputs": [],
   "source": []
  }
 ],
 "metadata": {
  "kernelspec": {
   "display_name": "Python 3",
   "language": "python",
   "name": "python3"
  },
  "language_info": {
   "codemirror_mode": {
    "name": "ipython",
    "version": 3
   },
   "file_extension": ".py",
   "mimetype": "text/x-python",
   "name": "python",
   "nbconvert_exporter": "python",
   "pygments_lexer": "ipython3",
   "version": "3.8.8"
  }
 },
 "nbformat": 4,
 "nbformat_minor": 5
}
