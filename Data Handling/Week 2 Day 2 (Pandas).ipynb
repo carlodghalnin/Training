{
 "cells": [
  {
   "cell_type": "code",
   "execution_count": 1,
   "id": "178f1cf1",
   "metadata": {},
   "outputs": [
    {
     "data": {
      "text/plain": [
       "[1, 2, 3, 4, 5]"
      ]
     },
     "execution_count": 1,
     "metadata": {},
     "output_type": "execute_result"
    }
   ],
   "source": [
    "import pandas as pd\n",
    "\n",
    "#1. Write a Pandas program to convert a Pandas module Series to Python list and\n",
    "#its type.\n",
    "\n",
    "series = pd.Series(data=[1,2,3,4,5])\n",
    "series = list(series)\n",
    "series"
   ]
  },
  {
   "cell_type": "code",
   "execution_count": 4,
   "id": "e146676f",
   "metadata": {},
   "outputs": [
    {
     "name": "stdout",
     "output_type": "stream",
     "text": [
      "0     3\n",
      "1     7\n",
      "2    11\n",
      "3    15\n",
      "4    19\n",
      "dtype: int64 0    1\n",
      "1    1\n",
      "2    1\n",
      "3    1\n",
      "4    1\n",
      "dtype: int64 0     2\n",
      "1    12\n",
      "2    30\n",
      "3    56\n",
      "4    90\n",
      "dtype: int64 0    2.000000\n",
      "1    1.333333\n",
      "2    1.200000\n",
      "3    1.142857\n",
      "4    1.111111\n",
      "dtype: float64\n"
     ]
    }
   ],
   "source": [
    "#2. Write a Pandas program to add, subtract, multiple and divide two Pandas\n",
    "#Series.\n",
    "s1 = pd.Series(data=[2, 4, 6, 8, 10])\n",
    "s2 = pd.Series(data=[1, 3, 5, 7, 9])\n",
    "\n",
    "print(s1+s2, s1-s2, s1*s2, s1/s2)"
   ]
  },
  {
   "cell_type": "code",
   "execution_count": 10,
   "id": "cbba0b07",
   "metadata": {},
   "outputs": [
    {
     "name": "stdout",
     "output_type": "stream",
     "text": [
      "0       Red\n",
      "1     Green\n",
      "2     White\n",
      "0       Red\n",
      "1     Black\n",
      "0    Yellow\n",
      "dtype: object\n"
     ]
    }
   ],
   "source": [
    "#3. Write a Pandas program to convert Series of lists to one Series.\n",
    "s0 = pd.Series(data=['Red', 'Green', 'White'])\n",
    "s1 = pd.Series(data=['Red', 'Black'])\n",
    "s2 = pd.Series(data=['Yellow'])\n",
    "\n",
    "s = s0.append([s1,s2])\n",
    "print(s)"
   ]
  },
  {
   "cell_type": "code",
   "execution_count": 14,
   "id": "1abea36e",
   "metadata": {},
   "outputs": [
    {
     "name": "stdout",
     "output_type": "stream",
     "text": [
      "s has mean 6.0 and standard deviation 3.16\n"
     ]
    }
   ],
   "source": [
    "#4. Write a Pandas program to create the mean and standard deviation of the\n",
    "#data of a given Series.\n",
    "\n",
    "s = pd.Series(data=[2, 4, 6, 8, 10])\n",
    "print(f'{\"s\"} has mean {s.mean()} and standard deviation {s.std():.2f}')"
   ]
  },
  {
   "cell_type": "code",
   "execution_count": 21,
   "id": "61483b55",
   "metadata": {},
   "outputs": [
    {
     "data": {
      "text/html": [
       "<div>\n",
       "<style scoped>\n",
       "    .dataframe tbody tr th:only-of-type {\n",
       "        vertical-align: middle;\n",
       "    }\n",
       "\n",
       "    .dataframe tbody tr th {\n",
       "        vertical-align: top;\n",
       "    }\n",
       "\n",
       "    .dataframe thead th {\n",
       "        text-align: right;\n",
       "    }\n",
       "</style>\n",
       "<table border=\"1\" class=\"dataframe\">\n",
       "  <thead>\n",
       "    <tr style=\"text-align: right;\">\n",
       "      <th></th>\n",
       "      <th>Name</th>\n",
       "      <th>Team</th>\n",
       "      <th>Number</th>\n",
       "      <th>Position</th>\n",
       "      <th>Age</th>\n",
       "      <th>Height</th>\n",
       "      <th>Weight</th>\n",
       "      <th>College</th>\n",
       "      <th>Salary</th>\n",
       "    </tr>\n",
       "  </thead>\n",
       "  <tbody>\n",
       "    <tr>\n",
       "      <th>0</th>\n",
       "      <td>Avery Bradley</td>\n",
       "      <td>Boston Celtics</td>\n",
       "      <td>0.0</td>\n",
       "      <td>PG</td>\n",
       "      <td>25.0</td>\n",
       "      <td>6-2</td>\n",
       "      <td>180.0</td>\n",
       "      <td>Texas</td>\n",
       "      <td>7730337.0</td>\n",
       "    </tr>\n",
       "    <tr>\n",
       "      <th>1</th>\n",
       "      <td>Jae Crowder</td>\n",
       "      <td>Boston Celtics</td>\n",
       "      <td>99.0</td>\n",
       "      <td>SF</td>\n",
       "      <td>25.0</td>\n",
       "      <td>6-6</td>\n",
       "      <td>235.0</td>\n",
       "      <td>Marquette</td>\n",
       "      <td>6796117.0</td>\n",
       "    </tr>\n",
       "    <tr>\n",
       "      <th>2</th>\n",
       "      <td>John Holland</td>\n",
       "      <td>Boston Celtics</td>\n",
       "      <td>30.0</td>\n",
       "      <td>SG</td>\n",
       "      <td>27.0</td>\n",
       "      <td>6-5</td>\n",
       "      <td>205.0</td>\n",
       "      <td>Boston University</td>\n",
       "      <td>NaN</td>\n",
       "    </tr>\n",
       "  </tbody>\n",
       "</table>\n",
       "</div>"
      ],
      "text/plain": [
       "            Name            Team  Number Position   Age Height  Weight  \\\n",
       "0  Avery Bradley  Boston Celtics     0.0       PG  25.0    6-2   180.0   \n",
       "1    Jae Crowder  Boston Celtics    99.0       SF  25.0    6-6   235.0   \n",
       "2   John Holland  Boston Celtics    30.0       SG  27.0    6-5   205.0   \n",
       "\n",
       "             College     Salary  \n",
       "0              Texas  7730337.0  \n",
       "1          Marquette  6796117.0  \n",
       "2  Boston University        NaN  "
      ]
     },
     "execution_count": 21,
     "metadata": {},
     "output_type": "execute_result"
    }
   ],
   "source": [
    "#5. Write a Pandas program to get the first 3 rows of a given DataFrame.\n",
    "\n",
    "nba = pd.read_csv('nba.csv')\n",
    "nba.head(n=3)"
   ]
  },
  {
   "cell_type": "code",
   "execution_count": 28,
   "id": "25a7501b",
   "metadata": {},
   "outputs": [
    {
     "name": "stdout",
     "output_type": "stream",
     "text": [
      "   One  Two\n",
      "0    1    3\n",
      "1    1    4\n"
     ]
    },
    {
     "data": {
      "text/html": [
       "<div>\n",
       "<style scoped>\n",
       "    .dataframe tbody tr th:only-of-type {\n",
       "        vertical-align: middle;\n",
       "    }\n",
       "\n",
       "    .dataframe tbody tr th {\n",
       "        vertical-align: top;\n",
       "    }\n",
       "\n",
       "    .dataframe thead th {\n",
       "        text-align: right;\n",
       "    }\n",
       "</style>\n",
       "<table border=\"1\" class=\"dataframe\">\n",
       "  <thead>\n",
       "    <tr style=\"text-align: right;\">\n",
       "      <th></th>\n",
       "      <th>One</th>\n",
       "      <th>Two</th>\n",
       "      <th>Zero</th>\n",
       "    </tr>\n",
       "  </thead>\n",
       "  <tbody>\n",
       "    <tr>\n",
       "      <th>0</th>\n",
       "      <td>1</td>\n",
       "      <td>3</td>\n",
       "      <td>0</td>\n",
       "    </tr>\n",
       "    <tr>\n",
       "      <th>1</th>\n",
       "      <td>1</td>\n",
       "      <td>4</td>\n",
       "      <td>0</td>\n",
       "    </tr>\n",
       "  </tbody>\n",
       "</table>\n",
       "</div>"
      ],
      "text/plain": [
       "   One  Two  Zero\n",
       "0    1    3     0\n",
       "1    1    4     0"
      ]
     },
     "execution_count": 28,
     "metadata": {},
     "output_type": "execute_result"
    }
   ],
   "source": [
    "#6. Write a Pandas program to insert a column at a specific index in a given\n",
    "#DataFrame.\n",
    "\n",
    "df = pd.DataFrame({'One': [1, 1], 'Two': [3, 4]})\n",
    "print(df.head())\n",
    "df.insert(2,'Zero',[0,0])\n",
    "df.head()"
   ]
  },
  {
   "cell_type": "code",
   "execution_count": 36,
   "id": "cc7585cf",
   "metadata": {},
   "outputs": [
    {
     "name": "stdout",
     "output_type": "stream",
     "text": [
      "   One  Two\n",
      "0    1    3\n",
      "1    1    4\n",
      " One  Two\n",
      "   1    3\n",
      "   1    4\n"
     ]
    }
   ],
   "source": [
    "#7. Write a Pandas program to print a DataFrame without index.\n",
    "\n",
    "df = pd.DataFrame({'One': [1, 1], 'Two': [3, 4]})\n",
    "print(df.head())\n",
    "print(df.to_string(index=False))"
   ]
  },
  {
   "cell_type": "code",
   "execution_count": 40,
   "id": "0de2e77c",
   "metadata": {},
   "outputs": [
    {
     "name": "stdout",
     "output_type": "stream",
     "text": [
      "            Name            Team  Number Position   Age Height  Weight  \\\n",
      "0  Avery Bradley  Boston Celtics     0.0       PG  25.0    6-2   180.0   \n",
      "1    Jae Crowder  Boston Celtics    99.0       SF  25.0    6-6   235.0   \n",
      "2   John Holland  Boston Celtics    30.0       SG  27.0    6-5   205.0   \n",
      "3    R.J. Hunter  Boston Celtics    28.0       SG  22.0    6-5   185.0   \n",
      "4  Jonas Jerebko  Boston Celtics     8.0       PF  29.0   6-10   231.0   \n",
      "\n",
      "             College     Salary  \n",
      "0              Texas  7730337.0  \n",
      "1          Marquette  6796117.0  \n",
      "2  Boston University        NaN  \n",
      "3      Georgia State  1148640.0  \n",
      "4                NaN  5000000.0  \n"
     ]
    },
    {
     "data": {
      "text/plain": [
       "Name         object\n",
       "Team         object\n",
       "Number      float64\n",
       "Position     object\n",
       "Age         float64\n",
       "Height       object\n",
       "Weight      float64\n",
       "College      object\n",
       "Salary      float64\n",
       "dtype: object"
      ]
     },
     "execution_count": 40,
     "metadata": {},
     "output_type": "execute_result"
    }
   ],
   "source": [
    "#8. Write a pandas program to find the datatype of each column\n",
    "\n",
    "nba = pd.read_csv('nba.csv')\n",
    "print(nba.head())\n",
    "nba.dtypes"
   ]
  },
  {
   "cell_type": "code",
   "execution_count": 42,
   "id": "da823832",
   "metadata": {},
   "outputs": [],
   "source": [
    "#9. Write a pandas program to convert the csv file to excel\n",
    "\n",
    "nba = pd.read_csv('nba.csv')\n",
    "nba.to_excel('nba.xlsx')"
   ]
  },
  {
   "cell_type": "code",
   "execution_count": 3,
   "id": "d33a2cae",
   "metadata": {},
   "outputs": [
    {
     "data": {
      "text/html": [
       "<div>\n",
       "<style scoped>\n",
       "    .dataframe tbody tr th:only-of-type {\n",
       "        vertical-align: middle;\n",
       "    }\n",
       "\n",
       "    .dataframe tbody tr th {\n",
       "        vertical-align: top;\n",
       "    }\n",
       "\n",
       "    .dataframe thead th {\n",
       "        text-align: right;\n",
       "    }\n",
       "</style>\n",
       "<table border=\"1\" class=\"dataframe\">\n",
       "  <thead>\n",
       "    <tr style=\"text-align: right;\">\n",
       "      <th></th>\n",
       "      <th>ord_no</th>\n",
       "      <th>purch_amt</th>\n",
       "      <th>ord_date</th>\n",
       "      <th>customer_id</th>\n",
       "      <th>salesman_id</th>\n",
       "    </tr>\n",
       "  </thead>\n",
       "  <tbody>\n",
       "    <tr>\n",
       "      <th>0</th>\n",
       "      <td>False</td>\n",
       "      <td>False</td>\n",
       "      <td>False</td>\n",
       "      <td>False</td>\n",
       "      <td>False</td>\n",
       "    </tr>\n",
       "    <tr>\n",
       "      <th>1</th>\n",
       "      <td>True</td>\n",
       "      <td>False</td>\n",
       "      <td>False</td>\n",
       "      <td>False</td>\n",
       "      <td>False</td>\n",
       "    </tr>\n",
       "    <tr>\n",
       "      <th>2</th>\n",
       "      <td>False</td>\n",
       "      <td>False</td>\n",
       "      <td>True</td>\n",
       "      <td>False</td>\n",
       "      <td>False</td>\n",
       "    </tr>\n",
       "    <tr>\n",
       "      <th>3</th>\n",
       "      <td>False</td>\n",
       "      <td>False</td>\n",
       "      <td>False</td>\n",
       "      <td>False</td>\n",
       "      <td>True</td>\n",
       "    </tr>\n",
       "    <tr>\n",
       "      <th>4</th>\n",
       "      <td>True</td>\n",
       "      <td>False</td>\n",
       "      <td>False</td>\n",
       "      <td>False</td>\n",
       "      <td>False</td>\n",
       "    </tr>\n",
       "    <tr>\n",
       "      <th>5</th>\n",
       "      <td>False</td>\n",
       "      <td>False</td>\n",
       "      <td>False</td>\n",
       "      <td>False</td>\n",
       "      <td>False</td>\n",
       "    </tr>\n",
       "    <tr>\n",
       "      <th>6</th>\n",
       "      <td>True</td>\n",
       "      <td>False</td>\n",
       "      <td>False</td>\n",
       "      <td>False</td>\n",
       "      <td>False</td>\n",
       "    </tr>\n",
       "    <tr>\n",
       "      <th>7</th>\n",
       "      <td>False</td>\n",
       "      <td>False</td>\n",
       "      <td>False</td>\n",
       "      <td>False</td>\n",
       "      <td>True</td>\n",
       "    </tr>\n",
       "    <tr>\n",
       "      <th>8</th>\n",
       "      <td>False</td>\n",
       "      <td>False</td>\n",
       "      <td>False</td>\n",
       "      <td>False</td>\n",
       "      <td>False</td>\n",
       "    </tr>\n",
       "    <tr>\n",
       "      <th>9</th>\n",
       "      <td>False</td>\n",
       "      <td>False</td>\n",
       "      <td>False</td>\n",
       "      <td>False</td>\n",
       "      <td>False</td>\n",
       "    </tr>\n",
       "    <tr>\n",
       "      <th>10</th>\n",
       "      <td>True</td>\n",
       "      <td>False</td>\n",
       "      <td>False</td>\n",
       "      <td>False</td>\n",
       "      <td>False</td>\n",
       "    </tr>\n",
       "    <tr>\n",
       "      <th>11</th>\n",
       "      <td>False</td>\n",
       "      <td>False</td>\n",
       "      <td>False</td>\n",
       "      <td>False</td>\n",
       "      <td>True</td>\n",
       "    </tr>\n",
       "  </tbody>\n",
       "</table>\n",
       "</div>"
      ],
      "text/plain": [
       "    ord_no  purch_amt  ord_date  customer_id  salesman_id\n",
       "0    False      False     False        False        False\n",
       "1     True      False     False        False        False\n",
       "2    False      False      True        False        False\n",
       "3    False      False     False        False         True\n",
       "4     True      False     False        False        False\n",
       "5    False      False     False        False        False\n",
       "6     True      False     False        False        False\n",
       "7    False      False     False        False         True\n",
       "8    False      False     False        False        False\n",
       "9    False      False     False        False        False\n",
       "10    True      False     False        False        False\n",
       "11   False      False     False        False         True"
      ]
     },
     "execution_count": 3,
     "metadata": {},
     "output_type": "execute_result"
    }
   ],
   "source": [
    "#10. Write a Pandas program to detect missing values of a given DataFrame.\n",
    "#Display True or False.\n",
    "#Test data saved as test.xlsx.\n",
    "\n",
    "test = pd.read_excel('test.xlsx')\n",
    "test.isna()"
   ]
  },
  {
   "cell_type": "code",
   "execution_count": 5,
   "id": "a61f8a81",
   "metadata": {},
   "outputs": [
    {
     "data": {
      "text/plain": [
       "8"
      ]
     },
     "execution_count": 5,
     "metadata": {},
     "output_type": "execute_result"
    }
   ],
   "source": [
    "#11. Write a Pandas program to count the number of missing values in each\n",
    "#column of above DataFrame (Question 10).\n",
    "\n",
    "test = pd.read_excel('test.xlsx')\n",
    "test.isna().sum().sum()"
   ]
  },
  {
   "cell_type": "code",
   "execution_count": 6,
   "id": "661256ef",
   "metadata": {},
   "outputs": [
    {
     "name": "stdout",
     "output_type": "stream",
     "text": [
      "    ord_no  purch_amt   ord_date  customer_id  salesman_id\n",
      "0  70001.0     150.50 2012-10-05         3002       5002.0\n",
      "5  70005.0    2400.60 2012-07-27         3001       5001.0\n",
      "8  70003.0    2480.40 2012-10-10         3003       5003.0\n",
      "9  70012.0     250.45 2012-06-27         3002       5002.0\n"
     ]
    }
   ],
   "source": [
    "#12. Write a Pandas program to drop the rows where at least one element is\n",
    "#missing in a given DataFrame.\n",
    "\n",
    "test = pd.read_excel('test.xlsx')\n",
    "test.dropna(inplace=True)\n",
    "print(test)"
   ]
  },
  {
   "cell_type": "code",
   "execution_count": 7,
   "id": "aaa95b59",
   "metadata": {},
   "outputs": [
    {
     "name": "stdout",
     "output_type": "stream",
     "text": [
      "     ord_no  purch_amt             ord_date  customer_id  salesman_id\n",
      "0   70001.0     150.50  2012-10-05 00:00:00         3002       5002.0\n",
      "1       1.0     270.65  2012-09-10 00:00:00         3001       5003.0\n",
      "2   70002.0      65.26                    1         3001       5001.0\n",
      "3   70004.0     110.50  2012-08-17 00:00:00         3003          1.0\n",
      "4       1.0     948.50  2012-09-10 00:00:00         3002       5002.0\n",
      "5   70005.0    2400.60  2012-07-27 00:00:00         3001       5001.0\n",
      "6       1.0    5760.00  2012-09-10 00:00:00         3001       5001.0\n",
      "7   70010.0    1983.43  2012-10-10 00:00:00         3004          1.0\n",
      "8   70003.0    2480.40  2012-10-10 00:00:00         3003       5003.0\n",
      "9   70012.0     250.45  2012-06-27 00:00:00         3002       5002.0\n",
      "10      1.0      75.29  2012-08-17 00:00:00         3001       5003.0\n",
      "11  70013.0    3045.60  2012-04-25 00:00:00         3001          1.0\n"
     ]
    }
   ],
   "source": [
    "#13. Write a Pandas program to replace NaNs with a single constant value in\n",
    "#specified columns in a DataFrame.\n",
    "\n",
    "test = pd.read_excel('test.xlsx')\n",
    "test.fillna(value=1, inplace=True)\n",
    "print(test)"
   ]
  },
  {
   "cell_type": "code",
   "execution_count": 15,
   "id": "59fe3c3c",
   "metadata": {},
   "outputs": [
    {
     "name": "stdout",
     "output_type": "stream",
     "text": [
      "0    00000001\n",
      "1    00000002\n",
      "2    00000003\n",
      "3    00000004\n",
      "4    00000005\n",
      "dtype: object\n"
     ]
    }
   ],
   "source": [
    "#14. Write a Pandas program to add leading zeros to the integer column in a\n",
    "#pandas series and makes the length of the field to 8 digit.\n",
    "\n",
    "series = pd.Series(data=[1,2,3,4,5])\n",
    "zeroed = series.apply(lambda x: str(x).zfill(8))\n",
    "print(zeroed)"
   ]
  },
  {
   "cell_type": "code",
   "execution_count": 3,
   "id": "2e685d8e",
   "metadata": {},
   "outputs": [
    {
     "name": "stdout",
     "output_type": "stream",
     "text": [
      "    ord_no  purch_amt   ord_date  customer_id  salesman_id\n",
      "0  70001.0     150.50 2012-10-05         3002       5002.0\n",
      "1      NaN     270.65 2012-09-10         3001       5003.0\n",
      "2  70002.0      65.26        NaT         3001       5001.0\n",
      "3  70004.0     110.50 2012-08-17         3003          NaN\n",
      "4      NaN     948.50 2012-09-10         3002       5002.0\n"
     ]
    },
    {
     "data": {
      "text/plain": [
       "0     True\n",
       "1     True\n",
       "2     True\n",
       "3     True\n",
       "4     True\n",
       "5     True\n",
       "6     True\n",
       "7     True\n",
       "8     True\n",
       "9     True\n",
       "10    True\n",
       "11    True\n",
       "Name: customer_id, dtype: bool"
      ]
     },
     "execution_count": 3,
     "metadata": {},
     "output_type": "execute_result"
    }
   ],
   "source": [
    "#15. Write a Pandas program to check whether only numeric values present in a\n",
    "#given column of a DataFrame\n",
    "\n",
    "test = pd.read_excel('test.xlsx')\n",
    "print(test.head())\n",
    "col = pd.Series(test['customer_id'],dtype=str)\n",
    "col.str.isnumeric()"
   ]
  },
  {
   "cell_type": "code",
   "execution_count": 8,
   "id": "097808b6",
   "metadata": {},
   "outputs": [
    {
     "data": {
      "text/html": [
       "<div>\n",
       "<style scoped>\n",
       "    .dataframe tbody tr th:only-of-type {\n",
       "        vertical-align: middle;\n",
       "    }\n",
       "\n",
       "    .dataframe tbody tr th {\n",
       "        vertical-align: top;\n",
       "    }\n",
       "\n",
       "    .dataframe thead th {\n",
       "        text-align: right;\n",
       "    }\n",
       "</style>\n",
       "<table border=\"1\" class=\"dataframe\">\n",
       "  <thead>\n",
       "    <tr style=\"text-align: right;\">\n",
       "      <th></th>\n",
       "      <th>s001</th>\n",
       "      <th>V</th>\n",
       "      <th>Alberto</th>\n",
       "      <th>Franco</th>\n",
       "      <th>15/05/2002</th>\n",
       "      <th>35</th>\n",
       "      <th>street1</th>\n",
       "      <th>t1</th>\n",
       "    </tr>\n",
       "    <tr>\n",
       "      <th>0</th>\n",
       "      <th></th>\n",
       "      <th></th>\n",
       "      <th></th>\n",
       "      <th></th>\n",
       "      <th></th>\n",
       "      <th></th>\n",
       "      <th></th>\n",
       "      <th></th>\n",
       "    </tr>\n",
       "  </thead>\n",
       "  <tbody>\n",
       "    <tr>\n",
       "      <th>1</th>\n",
       "      <td>s002</td>\n",
       "      <td>V</td>\n",
       "      <td>Gino</td>\n",
       "      <td>Mcneill</td>\n",
       "      <td>17/05/2002</td>\n",
       "      <td>32</td>\n",
       "      <td>street2</td>\n",
       "      <td>t2</td>\n",
       "    </tr>\n",
       "    <tr>\n",
       "      <th>2</th>\n",
       "      <td>s003</td>\n",
       "      <td>VI</td>\n",
       "      <td>Ryan</td>\n",
       "      <td>Parkes</td>\n",
       "      <td>16/02/1999</td>\n",
       "      <td>33</td>\n",
       "      <td>street3</td>\n",
       "      <td>t3</td>\n",
       "    </tr>\n",
       "    <tr>\n",
       "      <th>3</th>\n",
       "      <td>s001</td>\n",
       "      <td>VI</td>\n",
       "      <td>Eesha</td>\n",
       "      <td>Hinton</td>\n",
       "      <td>25/09/1998</td>\n",
       "      <td>30</td>\n",
       "      <td>street1</td>\n",
       "      <td>t4</td>\n",
       "    </tr>\n",
       "    <tr>\n",
       "      <th>4</th>\n",
       "      <td>s002</td>\n",
       "      <td>V</td>\n",
       "      <td>Gino</td>\n",
       "      <td>Mcneill</td>\n",
       "      <td>11/05/2002</td>\n",
       "      <td>31</td>\n",
       "      <td>street2</td>\n",
       "      <td>t5</td>\n",
       "    </tr>\n",
       "    <tr>\n",
       "      <th>5</th>\n",
       "      <td>s004</td>\n",
       "      <td>VI</td>\n",
       "      <td>David</td>\n",
       "      <td>Parkes</td>\n",
       "      <td>15/09/1997</td>\n",
       "      <td>32</td>\n",
       "      <td>street4</td>\n",
       "      <td>t6</td>\n",
       "    </tr>\n",
       "  </tbody>\n",
       "</table>\n",
       "</div>"
      ],
      "text/plain": [
       "   s001   V Alberto   Franco  15/05/2002  35  street1  t1\n",
       "0                                                        \n",
       "1  s002   V    Gino  Mcneill  17/05/2002  32  street2  t2\n",
       "2  s003  VI    Ryan   Parkes  16/02/1999  33  street3  t3\n",
       "3  s001  VI   Eesha   Hinton  25/09/1998  30  street1  t4\n",
       "4  s002   V    Gino  Mcneill  11/05/2002  31  street2  t5\n",
       "5  s004  VI   David   Parkes  15/09/1997  32  street4  t6"
      ]
     },
     "execution_count": 8,
     "metadata": {},
     "output_type": "execute_result"
    }
   ],
   "source": [
    "#16. Write a Pandas program to display the default index and set a column as an\n",
    "#Index in a given dataframe\n",
    "#Test data saved as test2.xlsx\n",
    "\n",
    "test2 = pd.read_excel('test2.xlsx')\n",
    "test2.set_index(0, inplace=True)\n",
    "test2.head()"
   ]
  },
  {
   "cell_type": "code",
   "execution_count": 10,
   "id": "4c7113d1",
   "metadata": {},
   "outputs": [
    {
     "data": {
      "text/html": [
       "<div>\n",
       "<style scoped>\n",
       "    .dataframe tbody tr th:only-of-type {\n",
       "        vertical-align: middle;\n",
       "    }\n",
       "\n",
       "    .dataframe tbody tr th {\n",
       "        vertical-align: top;\n",
       "    }\n",
       "\n",
       "    .dataframe thead th {\n",
       "        text-align: right;\n",
       "    }\n",
       "</style>\n",
       "<table border=\"1\" class=\"dataframe\">\n",
       "  <thead>\n",
       "    <tr style=\"text-align: right;\">\n",
       "      <th></th>\n",
       "      <th>s001</th>\n",
       "      <th>V</th>\n",
       "      <th>Alberto</th>\n",
       "      <th>Franco</th>\n",
       "      <th>15/05/2002</th>\n",
       "      <th>35</th>\n",
       "      <th>street1</th>\n",
       "      <th>t1</th>\n",
       "    </tr>\n",
       "    <tr>\n",
       "      <th>Index</th>\n",
       "      <th></th>\n",
       "      <th></th>\n",
       "      <th></th>\n",
       "      <th></th>\n",
       "      <th></th>\n",
       "      <th></th>\n",
       "      <th></th>\n",
       "      <th></th>\n",
       "    </tr>\n",
       "  </thead>\n",
       "  <tbody>\n",
       "    <tr>\n",
       "      <th>1</th>\n",
       "      <td>s002</td>\n",
       "      <td>V</td>\n",
       "      <td>Gino</td>\n",
       "      <td>Mcneill</td>\n",
       "      <td>17/05/2002</td>\n",
       "      <td>32</td>\n",
       "      <td>street2</td>\n",
       "      <td>t2</td>\n",
       "    </tr>\n",
       "    <tr>\n",
       "      <th>2</th>\n",
       "      <td>s003</td>\n",
       "      <td>VI</td>\n",
       "      <td>Ryan</td>\n",
       "      <td>Parkes</td>\n",
       "      <td>16/02/1999</td>\n",
       "      <td>33</td>\n",
       "      <td>street3</td>\n",
       "      <td>t3</td>\n",
       "    </tr>\n",
       "    <tr>\n",
       "      <th>3</th>\n",
       "      <td>s001</td>\n",
       "      <td>VI</td>\n",
       "      <td>Eesha</td>\n",
       "      <td>Hinton</td>\n",
       "      <td>25/09/1998</td>\n",
       "      <td>30</td>\n",
       "      <td>street1</td>\n",
       "      <td>t4</td>\n",
       "    </tr>\n",
       "    <tr>\n",
       "      <th>4</th>\n",
       "      <td>s002</td>\n",
       "      <td>V</td>\n",
       "      <td>Gino</td>\n",
       "      <td>Mcneill</td>\n",
       "      <td>11/05/2002</td>\n",
       "      <td>31</td>\n",
       "      <td>street2</td>\n",
       "      <td>t5</td>\n",
       "    </tr>\n",
       "    <tr>\n",
       "      <th>5</th>\n",
       "      <td>s004</td>\n",
       "      <td>VI</td>\n",
       "      <td>David</td>\n",
       "      <td>Parkes</td>\n",
       "      <td>15/09/1997</td>\n",
       "      <td>32</td>\n",
       "      <td>street4</td>\n",
       "      <td>t6</td>\n",
       "    </tr>\n",
       "  </tbody>\n",
       "</table>\n",
       "</div>"
      ],
      "text/plain": [
       "       s001   V Alberto   Franco  15/05/2002  35  street1  t1\n",
       "Index                                                        \n",
       "1      s002   V    Gino  Mcneill  17/05/2002  32  street2  t2\n",
       "2      s003  VI    Ryan   Parkes  16/02/1999  33  street3  t3\n",
       "3      s001  VI   Eesha   Hinton  25/09/1998  30  street1  t4\n",
       "4      s002   V    Gino  Mcneill  11/05/2002  31  street2  t5\n",
       "5      s004  VI   David   Parkes  15/09/1997  32  street4  t6"
      ]
     },
     "execution_count": 10,
     "metadata": {},
     "output_type": "execute_result"
    }
   ],
   "source": [
    "#17. Write a Pandas program to create a dataframe and set a title or name of the\n",
    "#index column.\n",
    "\n",
    "test2 = pd.read_excel('test2.xlsx')\n",
    "test2.set_index(0, inplace=True)\n",
    "test2.index.name = 'Index'\n",
    "test2.head()"
   ]
  },
  {
   "cell_type": "code",
   "execution_count": 14,
   "id": "9ccebed7",
   "metadata": {},
   "outputs": [
    {
     "data": {
      "text/plain": [
       "s001                s003\n",
       "V                     VI\n",
       "Alberto             Ryan\n",
       "Franco            Parkes\n",
       "15/05/2002    16/02/1999\n",
       "35                    33\n",
       "street1          street3\n",
       "t1                    t3\n",
       "Name: 2, dtype: object"
      ]
     },
     "execution_count": 14,
     "metadata": {},
     "output_type": "execute_result"
    }
   ],
   "source": [
    "#18. Write a Pandas program to select a specific row of given series/dataframe by\n",
    "#integer index.\n",
    "\n",
    "test2 = pd.read_excel('test2.xlsx')\n",
    "test2.set_index(0, inplace=True)\n",
    "test2.index.name = 'Index'\n",
    "spec = test2.iloc[1]\n",
    "spec"
   ]
  },
  {
   "cell_type": "code",
   "execution_count": 24,
   "id": "ab3a2541",
   "metadata": {},
   "outputs": [
    {
     "name": "stdout",
     "output_type": "stream",
     "text": [
      "   0  s001   V Alberto   Franco  15/05/2002  35  street1  t1\n",
      "0  1  s002   V    Gino  Mcneill  17/05/2002  32  street2  t2\n",
      "1  2  s003  VI    Ryan   Parkes  16/02/1999  33  street3  t3\n",
      "2  3  s001  VI   Eesha   Hinton  25/09/1998  30  street1  t4\n",
      "3  4  s002   V    Gino  Mcneill  11/05/2002  31  street2  t5\n",
      "4  5  s004  VI   David   Parkes  15/09/1997  32  street4  t6\n"
     ]
    },
    {
     "data": {
      "text/plain": [
       "[0, 3]"
      ]
     },
     "execution_count": 24,
     "metadata": {},
     "output_type": "execute_result"
    }
   ],
   "source": [
    "#19. Write a Pandas program to find the indexes of rows of a specified value of a\n",
    "#given column in a DataFrame.\n",
    "\n",
    "test2 = pd.read_excel('test2.xlsx')\n",
    "print(test2.head())\n",
    "s2 = test2.index[test2['street1']=='street2'].tolist()\n",
    "s2"
   ]
  },
  {
   "cell_type": "code",
   "execution_count": 21,
   "id": "12cc9546",
   "metadata": {},
   "outputs": [
    {
     "name": "stdout",
     "output_type": "stream",
     "text": [
      "[1, 2, 3, 4, 6, 7, 10, 11]\n"
     ]
    }
   ],
   "source": [
    "#20. Write a Pandas program to find integer index of rows with missing data in a\n",
    "#given dataframe.\n",
    "\n",
    "test = pd.read_excel('test.xlsx')\n",
    "missing = test.index[test.isna().any(axis=1)].tolist()\n",
    "print(missing)"
   ]
  }
 ],
 "metadata": {
  "kernelspec": {
   "display_name": "Python 3",
   "language": "python",
   "name": "python3"
  },
  "language_info": {
   "codemirror_mode": {
    "name": "ipython",
    "version": 3
   },
   "file_extension": ".py",
   "mimetype": "text/x-python",
   "name": "python",
   "nbconvert_exporter": "python",
   "pygments_lexer": "ipython3",
   "version": "3.8.8"
  }
 },
 "nbformat": 4,
 "nbformat_minor": 5
}
