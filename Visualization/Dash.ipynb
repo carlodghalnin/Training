{
 "cells": [
  {
   "cell_type": "code",
   "execution_count": 1,
   "id": "3a1d33a9",
   "metadata": {},
   "outputs": [
    {
     "name": "stdout",
     "output_type": "stream",
     "text": [
      "Collecting dash\n",
      "  Downloading dash-1.21.0.tar.gz (1.1 MB)\n",
      "Requirement already satisfied: Flask>=1.0.4 in c:\\users\\carlo\\anaconda3\\lib\\site-packages (from dash) (1.1.2)\n",
      "Collecting flask-compress\n",
      "  Downloading Flask_Compress-1.10.1-py3-none-any.whl (7.9 kB)\n",
      "Requirement already satisfied: plotly in c:\\users\\carlo\\anaconda3\\lib\\site-packages (from dash) (5.2.1)\n",
      "Collecting dash-core-components==1.17.1\n",
      "  Downloading dash_core_components-1.17.1.tar.gz (3.7 MB)\n",
      "Collecting dash-html-components==1.1.4\n",
      "  Downloading dash_html_components-1.1.4.tar.gz (83 kB)\n",
      "Collecting dash-table==4.12.0\n",
      "  Downloading dash_table-4.12.0.tar.gz (1.8 MB)\n",
      "Requirement already satisfied: future in c:\\users\\carlo\\anaconda3\\lib\\site-packages (from dash) (0.18.2)\n",
      "Requirement already satisfied: Jinja2>=2.10.1 in c:\\users\\carlo\\anaconda3\\lib\\site-packages (from Flask>=1.0.4->dash) (2.11.3)\n",
      "Requirement already satisfied: click>=5.1 in c:\\users\\carlo\\anaconda3\\lib\\site-packages (from Flask>=1.0.4->dash) (7.1.2)\n",
      "Requirement already satisfied: itsdangerous>=0.24 in c:\\users\\carlo\\anaconda3\\lib\\site-packages (from Flask>=1.0.4->dash) (1.1.0)\n",
      "Requirement already satisfied: Werkzeug>=0.15 in c:\\users\\carlo\\anaconda3\\lib\\site-packages (from Flask>=1.0.4->dash) (1.0.1)\n",
      "Requirement already satisfied: MarkupSafe>=0.23 in c:\\users\\carlo\\anaconda3\\lib\\site-packages (from Jinja2>=2.10.1->Flask>=1.0.4->dash) (1.1.1)\n",
      "Collecting brotli\n",
      "  Downloading Brotli-1.0.9-cp38-cp38-win_amd64.whl (365 kB)\n",
      "Requirement already satisfied: tenacity>=6.2.0 in c:\\users\\carlo\\anaconda3\\lib\\site-packages (from plotly->dash) (8.0.1)\n",
      "Requirement already satisfied: six in c:\\users\\carlo\\anaconda3\\lib\\site-packages (from plotly->dash) (1.15.0)\n",
      "Building wheels for collected packages: dash, dash-core-components, dash-html-components, dash-table\n",
      "  Building wheel for dash (setup.py): started\n",
      "  Building wheel for dash (setup.py): finished with status 'done'\n",
      "  Created wheel for dash: filename=dash-1.21.0-py3-none-any.whl size=1100477 sha256=348b56403d97ab19d2ef7f7dda8feb1ac0e779674ca195610fa4a87a6b761502\n",
      "  Stored in directory: c:\\users\\carlo\\appdata\\local\\pip\\cache\\wheels\\56\\e4\\21\\8a1190a7c31f3aa3f8834b05126ded8bf105b8fd11fad1806e\n",
      "  Building wheel for dash-core-components (setup.py): started\n",
      "  Building wheel for dash-core-components (setup.py): finished with status 'done'\n",
      "  Created wheel for dash-core-components: filename=dash_core_components-1.17.1-py3-none-any.whl size=3738982 sha256=061200126270bd85a838073eef4400dc4d931b2d5e9968854a37af238135aca4\n",
      "  Stored in directory: c:\\users\\carlo\\appdata\\local\\pip\\cache\\wheels\\08\\ae\\6a\\0f4a0ee8fa216ebf1f2e57277693a20d80e8a2cfe549f66d86\n",
      "  Building wheel for dash-html-components (setup.py): started\n",
      "  Building wheel for dash-html-components (setup.py): finished with status 'done'\n",
      "  Created wheel for dash-html-components: filename=dash_html_components-1.1.4-py3-none-any.whl size=319751 sha256=252409671c60774ca58b51bc701ad922942703b0f94662bea7a7870d611b0657\n",
      "  Stored in directory: c:\\users\\carlo\\appdata\\local\\pip\\cache\\wheels\\12\\fe\\5a\\d0f2f657ee34cef5cc3fced1d8992994fac1ca6232a03c6c03\n",
      "  Building wheel for dash-table (setup.py): started\n",
      "  Building wheel for dash-table (setup.py): finished with status 'done'\n",
      "  Created wheel for dash-table: filename=dash_table-4.12.0-py3-none-any.whl size=1837669 sha256=3e408c47813511e37bceda9112d20a2322bc2d14e753cc78eb7000d6d643aeb1\n",
      "  Stored in directory: c:\\users\\carlo\\appdata\\local\\pip\\cache\\wheels\\81\\20\\78\\23b49f61328cc14ddb5542b7a232a23c80891a9115fcd159d6\n",
      "Successfully built dash dash-core-components dash-html-components dash-table\n",
      "Installing collected packages: brotli, flask-compress, dash-table, dash-html-components, dash-core-components, dash\n",
      "Successfully installed brotli-1.0.9 dash-1.21.0 dash-core-components-1.17.1 dash-html-components-1.1.4 dash-table-4.12.0 flask-compress-1.10.1\n",
      "Collecting dash-renderer\n",
      "  Downloading dash_renderer-1.9.1.tar.gz (1.0 MB)\n",
      "Building wheels for collected packages: dash-renderer\n",
      "  Building wheel for dash-renderer (setup.py): started\n",
      "  Building wheel for dash-renderer (setup.py): finished with status 'done'\n",
      "  Created wheel for dash-renderer: filename=dash_renderer-1.9.1-py3-none-any.whl size=1014878 sha256=a607a308bc94c0bf890f8fa60b99a3d2ed2821b419f962cae0d62aa18a487269\n",
      "  Stored in directory: c:\\users\\carlo\\appdata\\local\\pip\\cache\\wheels\\ac\\7e\\fd\\807844722d79d8babcd27b16e5f7ecc7b476c45ca607c11729\n",
      "Successfully built dash-renderer\n",
      "Installing collected packages: dash-renderer\n",
      "Successfully installed dash-renderer-1.9.1\n",
      "Requirement already satisfied: dash_html_components in c:\\users\\carlo\\anaconda3\\lib\\site-packages (1.1.4)\n",
      "Requirement already satisfied: dash_core_components in c:\\users\\carlo\\anaconda3\\lib\\site-packages (1.17.1)\n"
     ]
    }
   ],
   "source": [
    "!pip install dash\n",
    "!pip install dash-renderer\n",
    "!pip install dash_html_components\n",
    "!pip install dash_core_components"
   ]
  },
  {
   "cell_type": "code",
   "execution_count": 1,
   "id": "33f946e5",
   "metadata": {},
   "outputs": [],
   "source": [
    "import dash\n",
    "import dash_html_components as html\n",
    "import dash_core_components as dcc\n",
    "from dash.dependencies import Input, Output\n",
    "from dash.exceptions import PreventUpdate"
   ]
  },
  {
   "cell_type": "code",
   "execution_count": 2,
   "id": "30f6c574",
   "metadata": {},
   "outputs": [],
   "source": [
    "app = dash.Dash()"
   ]
  },
  {
   "cell_type": "markdown",
   "id": "0b682f98",
   "metadata": {},
   "source": [
    "Skeleton app."
   ]
  },
  {
   "cell_type": "code",
   "execution_count": 5,
   "id": "cfc13c3a",
   "metadata": {},
   "outputs": [
    {
     "name": "stdout",
     "output_type": "stream",
     "text": [
      "Dash is running on http://127.0.0.1:8050/\n",
      "\n",
      " * Serving Flask app \"__main__\" (lazy loading)\n",
      " * Environment: production\n",
      "   WARNING: This is a development server. Do not use it in a production deployment.\n",
      "   Use a production WSGI server instead.\n",
      " * Debug mode: off\n"
     ]
    },
    {
     "name": "stderr",
     "output_type": "stream",
     "text": [
      " * Running on http://127.0.0.1:8050/ (Press CTRL+C to quit)\n",
      "127.0.0.1 - - [24/Aug/2021 12:33:35] \"\u001b[37mGET / HTTP/1.1\u001b[0m\" 200 -\n",
      "127.0.0.1 - - [24/Aug/2021 12:33:35] \"\u001b[37mGET /_favicon.ico?v=1.21.0 HTTP/1.1\u001b[0m\" 200 -\n",
      "127.0.0.1 - - [24/Aug/2021 12:33:41] \"\u001b[37mGET / HTTP/1.1\u001b[0m\" 200 -\n",
      "127.0.0.1 - - [24/Aug/2021 12:33:41] \"\u001b[37mGET /_dash-component-suites/dash/deps/polyfill@7.v1_21_0m1629832894.12.1.min.js HTTP/1.1\u001b[0m\" 200 -\n",
      "127.0.0.1 - - [24/Aug/2021 12:33:41] \"\u001b[37mGET /_dash-component-suites/dash/deps/react@16.v1_21_0m1629832894.14.0.min.js HTTP/1.1\u001b[0m\" 200 -\n",
      "127.0.0.1 - - [24/Aug/2021 12:33:41] \"\u001b[37mGET /_dash-component-suites/dash/deps/prop-types@15.v1_21_0m1629832894.7.2.min.js HTTP/1.1\u001b[0m\" 200 -\n",
      "127.0.0.1 - - [24/Aug/2021 12:33:41] \"\u001b[37mGET /_dash-component-suites/dash/deps/react-dom@16.v1_21_0m1629832894.14.0.min.js HTTP/1.1\u001b[0m\" 200 -\n",
      "127.0.0.1 - - [24/Aug/2021 12:33:41] \"\u001b[37mGET /_dash-component-suites/dash_html_components/dash_html_components.v1_1_4m1629832893.min.js HTTP/1.1\u001b[0m\" 200 -\n",
      "127.0.0.1 - - [24/Aug/2021 12:33:41] \"\u001b[37mGET /_dash-component-suites/dash_core_components/dash_core_components-shared.v1_17_1m1629832894.js HTTP/1.1\u001b[0m\" 200 -\n",
      "127.0.0.1 - - [24/Aug/2021 12:33:41] \"\u001b[37mGET /_dash-component-suites/dash/dash-renderer/build/dash_renderer.v1_21_0m1629832894.min.js HTTP/1.1\u001b[0m\" 200 -\n",
      "127.0.0.1 - - [24/Aug/2021 12:33:41] \"\u001b[37mGET /_dash-component-suites/dash_core_components/dash_core_components.v1_17_1m1629832894.js HTTP/1.1\u001b[0m\" 200 -\n",
      "127.0.0.1 - - [24/Aug/2021 12:33:41] \"\u001b[37mGET /_dash-layout HTTP/1.1\u001b[0m\" 200 -\n",
      "127.0.0.1 - - [24/Aug/2021 12:33:41] \"\u001b[37mGET /_dash-dependencies HTTP/1.1\u001b[0m\" 200 -\n",
      "127.0.0.1 - - [24/Aug/2021 12:34:14] \"\u001b[37mGET / HTTP/1.1\u001b[0m\" 200 -\n",
      "127.0.0.1 - - [24/Aug/2021 12:34:14] \"\u001b[37mGET /_dash-layout HTTP/1.1\u001b[0m\" 200 -\n",
      "127.0.0.1 - - [24/Aug/2021 12:34:14] \"\u001b[37mGET /_dash-dependencies HTTP/1.1\u001b[0m\" 200 -\n"
     ]
    }
   ],
   "source": [
    "app.layout = html.Div([\n",
    "    html.H1('Hello Dashboard'),\n",
    "    html.Div('Dash - Data product development framework for Plotly')\n",
    "])\n",
    "if __name__ == '__main__':\n",
    "    app.run_server(port=8050)"
   ]
  },
  {
   "cell_type": "markdown",
   "id": "e95ab4e9",
   "metadata": {},
   "source": [
    "Adding a graph."
   ]
  },
  {
   "cell_type": "code",
   "execution_count": 8,
   "id": "bcffb37d",
   "metadata": {},
   "outputs": [
    {
     "name": "stdout",
     "output_type": "stream",
     "text": [
      "Dash is running on http://127.0.0.1:8050/\n",
      "\n",
      " * Serving Flask app \"__main__\" (lazy loading)\n",
      " * Environment: production\n",
      "   WARNING: This is a development server. Do not use it in a production deployment.\n",
      "   Use a production WSGI server instead.\n",
      " * Debug mode: off\n"
     ]
    },
    {
     "name": "stderr",
     "output_type": "stream",
     "text": [
      " * Running on http://127.0.0.1:8050/ (Press CTRL+C to quit)\n",
      "127.0.0.1 - - [24/Aug/2021 12:45:03] \"\u001b[37mGET / HTTP/1.1\u001b[0m\" 200 -\n",
      "127.0.0.1 - - [24/Aug/2021 12:45:03] \"\u001b[37mGET /_dash-layout HTTP/1.1\u001b[0m\" 200 -\n",
      "127.0.0.1 - - [24/Aug/2021 12:45:03] \"\u001b[37mGET /_dash-dependencies HTTP/1.1\u001b[0m\" 200 -\n",
      "127.0.0.1 - - [24/Aug/2021 12:45:03] \"\u001b[37mGET /_dash-component-suites/dash_core_components/async-graph.js HTTP/1.1\u001b[0m\" 200 -\n",
      "127.0.0.1 - - [24/Aug/2021 12:45:03] \"\u001b[37mGET /_dash-component-suites/dash_core_components/async-plotlyjs.js HTTP/1.1\u001b[0m\" 200 -\n"
     ]
    }
   ],
   "source": [
    "app.layout = html.Div([\n",
    "    html.H1('Hello Dashboard'),\n",
    "    html.Div('Dash - Data product development framework for Plotly'),\n",
    "    dcc.Graph(id='Sample Graph',\n",
    "             figure={'data' : [\n",
    "                         {'x':[2,3,4],'y':[5,10,15],'type':'bar','name':'SF1'},\n",
    "                         {'x':[2,3,4],'y':[25,30,35],'type':'bar','name':'SF2'}\n",
    "             ],\n",
    "                'layout' : {'title':'Simple Bar Chart'}\n",
    "             })\n",
    "])\n",
    "if __name__ == '__main__':\n",
    "    app.run_server(port=8050)"
   ]
  },
  {
   "cell_type": "markdown",
   "id": "09ed16c7",
   "metadata": {},
   "source": [
    "Adding a button."
   ]
  },
  {
   "cell_type": "code",
   "execution_count": 10,
   "id": "7519b24e",
   "metadata": {},
   "outputs": [
    {
     "name": "stdout",
     "output_type": "stream",
     "text": [
      "Dash is running on http://127.0.0.1:8050/\n",
      "\n",
      " * Serving Flask app \"__main__\" (lazy loading)\n",
      " * Environment: production\n",
      "   WARNING: This is a development server. Do not use it in a production deployment.\n",
      "   Use a production WSGI server instead.\n",
      " * Debug mode: off\n"
     ]
    },
    {
     "name": "stderr",
     "output_type": "stream",
     "text": [
      " * Running on http://127.0.0.1:8050/ (Press CTRL+C to quit)\n",
      "127.0.0.1 - - [24/Aug/2021 12:52:37] \"\u001b[37mGET / HTTP/1.1\u001b[0m\" 200 -\n",
      "127.0.0.1 - - [24/Aug/2021 12:52:38] \"\u001b[37mGET /_dash-layout HTTP/1.1\u001b[0m\" 200 -\n",
      "127.0.0.1 - - [24/Aug/2021 12:52:38] \"\u001b[37mGET /_dash-dependencies HTTP/1.1\u001b[0m\" 200 -\n",
      "127.0.0.1 - - [24/Aug/2021 12:52:38] \"\u001b[37mGET /_favicon.ico?v=1.21.0 HTTP/1.1\u001b[0m\" 200 -\n",
      "127.0.0.1 - - [24/Aug/2021 12:52:38] \"\u001b[37mGET /_dash-component-suites/dash_core_components/async-graph.js HTTP/1.1\u001b[0m\" 200 -\n",
      "127.0.0.1 - - [24/Aug/2021 12:52:38] \"\u001b[37mGET /_dash-component-suites/dash_core_components/async-plotlyjs.js HTTP/1.1\u001b[0m\" 200 -\n"
     ]
    }
   ],
   "source": [
    "app.layout = html.Div([\n",
    "    html.H1('Hello Dashboard'),\n",
    "    html.Div('Dash - Data product development framework for Plotly'),\n",
    "    html.Button('Click me!', id='my-button'),\n",
    "    html.Div(id='my-output'),\n",
    "    dcc.Graph(id='Sample Graph',\n",
    "             figure={'data' : [\n",
    "                         {'x':[2,3,4],'y':[5,10,15],'type':'bar','name':'SF1'},\n",
    "                         {'x':[2,3,4],'y':[25,30,35],'type':'bar','name':'SF2'}\n",
    "             ],\n",
    "                'layout' : {'title':'Simple Bar Chart'}\n",
    "             })\n",
    "])\n",
    "if __name__ == '__main__':\n",
    "    app.run_server(port=8050)"
   ]
  },
  {
   "cell_type": "markdown",
   "id": "bccb2f93",
   "metadata": {},
   "source": [
    "Adding callback."
   ]
  },
  {
   "cell_type": "code",
   "execution_count": null,
   "id": "862df378",
   "metadata": {},
   "outputs": [
    {
     "name": "stdout",
     "output_type": "stream",
     "text": [
      "Dash is running on http://127.0.0.1:8050/\n",
      "\n",
      " * Serving Flask app \"__main__\" (lazy loading)\n",
      " * Environment: production\n",
      "   WARNING: This is a development server. Do not use it in a production deployment.\n",
      "   Use a production WSGI server instead.\n",
      " * Debug mode: off\n"
     ]
    },
    {
     "name": "stderr",
     "output_type": "stream",
     "text": [
      " * Running on http://127.0.0.1:8050/ (Press CTRL+C to quit)\n",
      "127.0.0.1 - - [26/Aug/2021 09:36:20] \"\u001b[37mGET / HTTP/1.1\u001b[0m\" 200 -\n",
      "127.0.0.1 - - [26/Aug/2021 09:36:20] \"\u001b[37mGET /_dash-layout HTTP/1.1\u001b[0m\" 200 -\n",
      "127.0.0.1 - - [26/Aug/2021 09:36:20] \"\u001b[37mGET /_dash-dependencies HTTP/1.1\u001b[0m\" 200 -\n",
      "127.0.0.1 - - [26/Aug/2021 09:36:20] \"\u001b[37mGET /_dash-component-suites/dash_core_components/async-graph.js HTTP/1.1\u001b[0m\" 200 -\n",
      "127.0.0.1 - - [26/Aug/2021 09:36:20] \"\u001b[37mPOST /_dash-update-component HTTP/1.1\u001b[0m\" 200 -\n",
      "127.0.0.1 - - [26/Aug/2021 09:36:20] \"\u001b[37mGET /_dash-component-suites/dash_core_components/async-plotlyjs.js HTTP/1.1\u001b[0m\" 200 -\n",
      "127.0.0.1 - - [26/Aug/2021 09:36:21] \"\u001b[37mPOST /_dash-update-component HTTP/1.1\u001b[0m\" 200 -\n",
      "127.0.0.1 - - [26/Aug/2021 09:36:22] \"\u001b[37mPOST /_dash-update-component HTTP/1.1\u001b[0m\" 200 -\n",
      "127.0.0.1 - - [26/Aug/2021 09:36:22] \"\u001b[37mPOST /_dash-update-component HTTP/1.1\u001b[0m\" 200 -\n",
      "127.0.0.1 - - [26/Aug/2021 09:36:22] \"\u001b[37mPOST /_dash-update-component HTTP/1.1\u001b[0m\" 200 -\n",
      "127.0.0.1 - - [26/Aug/2021 09:36:22] \"\u001b[37mPOST /_dash-update-component HTTP/1.1\u001b[0m\" 200 -\n"
     ]
    }
   ],
   "source": [
    "app.layout = html.Div([\n",
    "    html.H1('Hello Dashboard'),\n",
    "    html.Div('Dash - Data product development framework for Plotly'),\n",
    "    html.Button('Click me!', id='my-button'),\n",
    "    html.Div(id='my-output'),\n",
    "    dcc.Graph(id='Sample Graph',\n",
    "             figure={'data' : [\n",
    "                         {'x':[2,3,4],'y':[5,10,15],'type':'bar','name':'SF1'},\n",
    "                         {'x':[2,3,4],'y':[25,30,35],'type':'bar','name':'SF2'}\n",
    "             ],\n",
    "                'layout' : {'title':'Simple Bar Chart'}\n",
    "             })\n",
    "])\n",
    "\n",
    "@app.callback(\n",
    "    [Output('my-output', 'children')],\n",
    "    [Input('my-button', 'n_clicks')]\n",
    ")\n",
    "\n",
    "def clicked_output(v):\n",
    "    if v == 'None':\n",
    "        return ['']\n",
    "    return [f'You clicked {v} times.']\n",
    "\n",
    "if __name__ == '__main__':\n",
    "    app.run_server(port=8050)"
   ]
  },
  {
   "cell_type": "code",
   "execution_count": null,
   "id": "f780e1a2",
   "metadata": {},
   "outputs": [],
   "source": []
  }
 ],
 "metadata": {
  "kernelspec": {
   "display_name": "Python 3",
   "language": "python",
   "name": "python3"
  },
  "language_info": {
   "codemirror_mode": {
    "name": "ipython",
    "version": 3
   },
   "file_extension": ".py",
   "mimetype": "text/x-python",
   "name": "python",
   "nbconvert_exporter": "python",
   "pygments_lexer": "ipython3",
   "version": "3.8.8"
  }
 },
 "nbformat": 4,
 "nbformat_minor": 5
}
