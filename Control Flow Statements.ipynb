{
 "cells": [
  {
   "cell_type": "markdown",
   "id": "dbe58bf2",
   "metadata": {},
   "source": [
    "Do nothing (**pass**)."
   ]
  },
  {
   "cell_type": "code",
   "execution_count": 1,
   "id": "96c0c47d",
   "metadata": {},
   "outputs": [
    {
     "name": "stdout",
     "output_type": "stream",
     "text": [
      "1\n",
      "2\n",
      "4\n",
      "5\n"
     ]
    }
   ],
   "source": [
    "lst = [1,2,3,4,5]\n",
    "for num in lst:\n",
    "    if num == 3:\n",
    "        pass\n",
    "    else:\n",
    "        print(num)"
   ]
  },
  {
   "cell_type": "code",
   "execution_count": 14,
   "id": "e6412c09",
   "metadata": {},
   "outputs": [
    {
     "name": "stdout",
     "output_type": "stream",
     "text": [
      "None\n"
     ]
    }
   ],
   "source": [
    "#pass as a placeholder\n",
    "def complicated_function(arg1,arg2,arg3,default=42,*args):\n",
    "    pass\n",
    "\n",
    "print(complicated_function(1,2,3,9,'the numbers mason','what do they mean'))"
   ]
  },
  {
   "cell_type": "markdown",
   "id": "5baff911",
   "metadata": {},
   "source": [
    "___\n",
    "Stop flow (**break**)."
   ]
  },
  {
   "cell_type": "code",
   "execution_count": 1,
   "id": "b7fb360e",
   "metadata": {},
   "outputs": [
    {
     "name": "stdout",
     "output_type": "stream",
     "text": [
      "4\n",
      "3\n"
     ]
    }
   ],
   "source": [
    "n = 5\n",
    "while n != 0:\n",
    "    n = n - 1\n",
    "    if n == 2:\n",
    "        #pass\n",
    "        break\n",
    "    print(n)"
   ]
  },
  {
   "cell_type": "code",
   "execution_count": 2,
   "id": "dacc4062",
   "metadata": {},
   "outputs": [
    {
     "name": "stdout",
     "output_type": "stream",
     "text": [
      "Plating burger.\n"
     ]
    }
   ],
   "source": [
    "table = ['burger','salad','hotdog','club']\n",
    "sandwiches = ['burger','hotdog','club']\n",
    "for food in table:\n",
    "    if food not in sandwiches:\n",
    "        #pass\n",
    "        break\n",
    "    else:\n",
    "        print(f'Plating {food}.')"
   ]
  },
  {
   "cell_type": "markdown",
   "id": "60efe37e",
   "metadata": {},
   "source": [
    "___\n",
    "Ignore succeeding statements and return to loop. (**continue**)."
   ]
  },
  {
   "cell_type": "code",
   "execution_count": 4,
   "id": "723e00aa",
   "metadata": {},
   "outputs": [
    {
     "name": "stdout",
     "output_type": "stream",
     "text": [
      "Getting value...\n",
      "Value is 1.\n",
      "Getting value...\n",
      "Value is 2.\n",
      "Getting value...\n",
      "Getting value...\n",
      "Value is 4.\n",
      "Getting value...\n",
      "Value is 5.\n"
     ]
    }
   ],
   "source": [
    "values = [1,2,3.3,4,5]\n",
    "for num in values:\n",
    "    print('Getting value...')\n",
    "    if type(num) is float:\n",
    "        #pass\n",
    "        #break\n",
    "        continue\n",
    "    print(f'Value is {num}.')"
   ]
  },
  {
   "cell_type": "code",
   "execution_count": null,
   "id": "2bfc6f17",
   "metadata": {},
   "outputs": [],
   "source": []
  }
 ],
 "metadata": {
  "kernelspec": {
   "display_name": "Python 3",
   "language": "python",
   "name": "python3"
  },
  "language_info": {
   "codemirror_mode": {
    "name": "ipython",
    "version": 3
   },
   "file_extension": ".py",
   "mimetype": "text/x-python",
   "name": "python",
   "nbconvert_exporter": "python",
   "pygments_lexer": "ipython3",
   "version": "3.8.8"
  }
 },
 "nbformat": 4,
 "nbformat_minor": 5
}
