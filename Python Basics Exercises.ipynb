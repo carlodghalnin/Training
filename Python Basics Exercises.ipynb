{
 "cells": [
  {
   "cell_type": "markdown",
   "id": "dbe24943",
   "metadata": {},
   "source": [
    "Write Python code to return version."
   ]
  },
  {
   "cell_type": "code",
   "execution_count": 3,
   "id": "01396b6b",
   "metadata": {},
   "outputs": [
    {
     "data": {
      "text/plain": [
       "sys.version_info(major=3, minor=8, micro=8, releaselevel='final', serial=0)"
      ]
     },
     "execution_count": 3,
     "metadata": {},
     "output_type": "execute_result"
    }
   ],
   "source": [
    "import sys\n",
    "sys.version_info"
   ]
  },
  {
   "cell_type": "markdown",
   "id": "925caed1",
   "metadata": {},
   "source": [
    "Assigning and printing."
   ]
  },
  {
   "cell_type": "code",
   "execution_count": 5,
   "id": "3a39bc7d",
   "metadata": {},
   "outputs": [
    {
     "name": "stdout",
     "output_type": "stream",
     "text": [
      "customer id = 513\n"
     ]
    }
   ],
   "source": [
    "id = '513'\n",
    "print(f'customer id = {id}')"
   ]
  },
  {
   "cell_type": "markdown",
   "id": "c4842e5f",
   "metadata": {},
   "source": [
    "Concatenation and types."
   ]
  },
  {
   "cell_type": "code",
   "execution_count": 6,
   "id": "b012dd17",
   "metadata": {},
   "outputs": [
    {
     "ename": "TypeError",
     "evalue": "can only concatenate str (not \"int\") to str",
     "output_type": "error",
     "traceback": [
      "\u001b[1;31m---------------------------------------------------------------------------\u001b[0m",
      "\u001b[1;31mTypeError\u001b[0m                                 Traceback (most recent call last)",
      "\u001b[1;32m<ipython-input-6-72fba5e05f72>\u001b[0m in \u001b[0;36m<module>\u001b[1;34m\u001b[0m\n\u001b[1;32m----> 1\u001b[1;33m \u001b[0mid\u001b[0m \u001b[1;33m=\u001b[0m \u001b[0mid\u001b[0m \u001b[1;33m+\u001b[0m \u001b[1;36m1\u001b[0m\u001b[1;33m\u001b[0m\u001b[1;33m\u001b[0m\u001b[0m\n\u001b[0m",
      "\u001b[1;31mTypeError\u001b[0m: can only concatenate str (not \"int\") to str"
     ]
    }
   ],
   "source": [
    "id = id + 1"
   ]
  },
  {
   "cell_type": "markdown",
   "id": "20c2959a",
   "metadata": {},
   "source": [
    "Type changing."
   ]
  },
  {
   "cell_type": "code",
   "execution_count": 10,
   "id": "7bf6ef1a",
   "metadata": {},
   "outputs": [
    {
     "name": "stdout",
     "output_type": "stream",
     "text": [
      "514\n"
     ]
    }
   ],
   "source": [
    "new_id = int(id) + 1\n",
    "print(new_id)"
   ]
  },
  {
   "cell_type": "markdown",
   "id": "484c067c",
   "metadata": {},
   "source": [
    "String formatting."
   ]
  },
  {
   "cell_type": "code",
   "execution_count": 15,
   "id": "6a34b3c4",
   "metadata": {},
   "outputs": [
    {
     "name": "stdout",
     "output_type": "stream",
     "text": [
      "Twinkle, twinkle, little star,\n",
      "   How I wonder what you are!\n",
      "      Up above the world so high,\n",
      "         Like a diamond in the sky.\n"
     ]
    }
   ],
   "source": [
    "song = (\n",
    "'Twinkle, twinkle, little star,',  \n",
    "'How I wonder what you are!',  \n",
    "'Up above the world so high,', \n",
    "'Like a diamond in the sky.', \n",
    ")\n",
    "\n",
    "n = 0\n",
    "for line in song:\n",
    "    print(n * '   ' + line)\n",
    "    n = n + 1"
   ]
  },
  {
   "cell_type": "markdown",
   "id": "e39381eb",
   "metadata": {},
   "source": [
    "String methods."
   ]
  },
  {
   "cell_type": "code",
   "execution_count": 16,
   "id": "2bf26814",
   "metadata": {},
   "outputs": [
    {
     "data": {
      "text/plain": [
       "'P'"
      ]
     },
     "execution_count": 16,
     "metadata": {},
     "output_type": "execute_result"
    }
   ],
   "source": [
    "course = \"Python for Data Science\"\n",
    "course[0]"
   ]
  },
  {
   "cell_type": "code",
   "execution_count": 17,
   "id": "76e191a3",
   "metadata": {},
   "outputs": [
    {
     "data": {
      "text/plain": [
       "'t'"
      ]
     },
     "execution_count": 17,
     "metadata": {},
     "output_type": "execute_result"
    }
   ],
   "source": [
    "course[13]"
   ]
  },
  {
   "cell_type": "code",
   "execution_count": 18,
   "id": "b3f9c06d",
   "metadata": {},
   "outputs": [
    {
     "data": {
      "text/plain": [
       "23"
      ]
     },
     "execution_count": 18,
     "metadata": {},
     "output_type": "execute_result"
    }
   ],
   "source": [
    "len(course)"
   ]
  },
  {
   "cell_type": "code",
   "execution_count": 19,
   "id": "e81743b8",
   "metadata": {},
   "outputs": [
    {
     "data": {
      "text/plain": [
       "'e'"
      ]
     },
     "execution_count": 19,
     "metadata": {},
     "output_type": "execute_result"
    }
   ],
   "source": [
    "course[-1]"
   ]
  },
  {
   "cell_type": "code",
   "execution_count": 20,
   "id": "dc0d9002",
   "metadata": {},
   "outputs": [
    {
     "data": {
      "text/plain": [
       "'Dat'"
      ]
     },
     "execution_count": 20,
     "metadata": {},
     "output_type": "execute_result"
    }
   ],
   "source": [
    "course[11:14]"
   ]
  },
  {
   "cell_type": "code",
   "execution_count": 21,
   "id": "ae733c3c",
   "metadata": {},
   "outputs": [
    {
     "data": {
      "text/plain": [
       "'Ph ra i'"
      ]
     },
     "execution_count": 21,
     "metadata": {},
     "output_type": "execute_result"
    }
   ],
   "source": [
    "course[0:20:3]"
   ]
  },
  {
   "cell_type": "code",
   "execution_count": 23,
   "id": "f51df171",
   "metadata": {},
   "outputs": [
    {
     "data": {
      "text/plain": [
       "'Python for Data Science, AI & Development'"
      ]
     },
     "execution_count": 23,
     "metadata": {},
     "output_type": "execute_result"
    }
   ],
   "source": [
    "coursename = course + ', AI & Development'\n",
    "coursename"
   ]
  },
  {
   "cell_type": "code",
   "execution_count": 24,
   "id": "32e26dde",
   "metadata": {},
   "outputs": [
    {
     "data": {
      "text/plain": [
       "'Python_for_Data_Science,_AI_&_Development'"
      ]
     },
     "execution_count": 24,
     "metadata": {},
     "output_type": "execute_result"
    }
   ],
   "source": [
    "coursename.replace(' ', '_')"
   ]
  },
  {
   "cell_type": "code",
   "execution_count": 25,
   "id": "4186c8ca",
   "metadata": {},
   "outputs": [
    {
     "data": {
      "text/plain": [
       "'PYTHON FOR DATA SCIENCE, AI & DEVELOPMENT'"
      ]
     },
     "execution_count": 25,
     "metadata": {},
     "output_type": "execute_result"
    }
   ],
   "source": [
    "coursename.upper()"
   ]
  },
  {
   "cell_type": "code",
   "execution_count": 26,
   "id": "1268dad1",
   "metadata": {},
   "outputs": [
    {
     "data": {
      "text/plain": [
       "'python for data science, ai & development'"
      ]
     },
     "execution_count": 26,
     "metadata": {},
     "output_type": "execute_result"
    }
   ],
   "source": [
    "coursename.lower()"
   ]
  },
  {
   "cell_type": "code",
   "execution_count": 27,
   "id": "fd89819a",
   "metadata": {},
   "outputs": [
    {
     "data": {
      "text/plain": [
       "24"
      ]
     },
     "execution_count": 27,
     "metadata": {},
     "output_type": "execute_result"
    }
   ],
   "source": [
    "txt = \"Welcome to the world of Python.\"\n",
    "txt.find(\"Python\")"
   ]
  },
  {
   "cell_type": "code",
   "execution_count": 29,
   "id": "d099e847",
   "metadata": {},
   "outputs": [
    {
     "data": {
      "text/plain": [
       "80"
      ]
     },
     "execution_count": 29,
     "metadata": {},
     "output_type": "execute_result"
    }
   ],
   "source": [
    "ord('P')"
   ]
  },
  {
   "cell_type": "code",
   "execution_count": 30,
   "id": "f13d2715",
   "metadata": {},
   "outputs": [
    {
     "data": {
      "text/plain": [
       "116"
      ]
     },
     "execution_count": 30,
     "metadata": {},
     "output_type": "execute_result"
    }
   ],
   "source": [
    "ord('t')"
   ]
  },
  {
   "cell_type": "code",
   "execution_count": null,
   "id": "65914cd3",
   "metadata": {},
   "outputs": [],
   "source": []
  }
 ],
 "metadata": {
  "kernelspec": {
   "display_name": "Python 3",
   "language": "python",
   "name": "python3"
  },
  "language_info": {
   "codemirror_mode": {
    "name": "ipython",
    "version": 3
   },
   "file_extension": ".py",
   "mimetype": "text/x-python",
   "name": "python",
   "nbconvert_exporter": "python",
   "pygments_lexer": "ipython3",
   "version": "3.8.8"
  }
 },
 "nbformat": 4,
 "nbformat_minor": 5
}
