{
 "cells": [
  {
   "cell_type": "code",
   "execution_count": 11,
   "id": "f9cf4524",
   "metadata": {},
   "outputs": [
    {
     "data": {
      "text/plain": [
       "False"
      ]
     },
     "execution_count": 11,
     "metadata": {},
     "output_type": "execute_result"
    }
   ],
   "source": [
    "#Q1 Given two integer numbers. If any of the numbers are greater than 50 return t\n",
    "number1= 20\n",
    "number2= 40\n",
    "\n",
    "number1 > 50 or number2 > 50"
   ]
  },
  {
   "cell_type": "code",
   "execution_count": 22,
   "id": "a4df814e",
   "metadata": {},
   "outputs": [
    {
     "data": {
      "text/plain": [
       "True"
      ]
     },
     "execution_count": 22,
     "metadata": {},
     "output_type": "execute_result"
    }
   ],
   "source": [
    "#Q2 Given a list of numbers, return True if first and last number of a list is sa\n",
    "list=[1,2,5,4,1]\n",
    "\n",
    "list[0] == list[len(list)-1]"
   ]
  },
  {
   "cell_type": "code",
   "execution_count": 9,
   "id": "43ff7b38",
   "metadata": {},
   "outputs": [
    {
     "name": "stdout",
     "output_type": "stream",
     "text": [
      "Sum of 0 and 0 is 0.\n",
      "Sum of 1 and 0 is 1.\n",
      "Sum of 2 and 1 is 3.\n",
      "Sum of 3 and 2 is 5.\n",
      "Sum of 4 and 3 is 7.\n",
      "Sum of 5 and 4 is 9.\n",
      "Sum of 6 and 5 is 11.\n",
      "Sum of 7 and 6 is 13.\n",
      "Sum of 8 and 7 is 15.\n",
      "Sum of 9 and 8 is 17.\n"
     ]
    }
   ],
   "source": [
    "#Q3 Given a range of the first 10 numbers[1:10], Iterate from the start number to\n",
    "#and In each iteration print the sum of the current number and previous number\n",
    "\n",
    "prev = 0\n",
    "for i in range(10):\n",
    "    val = prev + i\n",
    "    print(f'Sum of {i} and {prev} is {val}.')\n",
    "    prev = i"
   ]
  },
  {
   "cell_type": "code",
   "execution_count": null,
   "id": "86fd384a",
   "metadata": {},
   "outputs": [],
   "source": [
    "#Q4 Given a string name, display only those characters which are present at an ev\n",
    "name=\"NPowerCanada\""
   ]
  },
  {
   "cell_type": "code",
   "execution_count": 1,
   "id": "23d82dad",
   "metadata": {},
   "outputs": [
    {
     "data": {
      "text/plain": [
       "'Course'"
      ]
     },
     "execution_count": 1,
     "metadata": {},
     "output_type": "execute_result"
    }
   ],
   "source": [
    "#Q5 Given a string oldString and an integer number n,\n",
    "#remove characters from a string starting from zero up to n and return a newString\n",
    "\n",
    "oldString = \"PythonCourse\"\n",
    "n = 6\n",
    "\n",
    "newString = oldString[len(oldString) - n:]\n",
    "newString"
   ]
  },
  {
   "cell_type": "code",
   "execution_count": 15,
   "id": "73efb423",
   "metadata": {},
   "outputs": [
    {
     "name": "stdout",
     "output_type": "stream",
     "text": [
      "\n",
      "*\n",
      "**\n",
      "***\n",
      "****\n"
     ]
    }
   ],
   "source": [
    "#Q6 Print the following pattern\n",
    "#*\n",
    "#**\n",
    "#***\n",
    "#****\n",
    "\n",
    "for i in range(5):\n",
    "    print(i*'*')"
   ]
  },
  {
   "cell_type": "code",
   "execution_count": 16,
   "id": "d77bc319",
   "metadata": {},
   "outputs": [
    {
     "data": {
      "text/plain": [
       "[60, 50, 70, 90]"
      ]
     },
     "execution_count": 16,
     "metadata": {},
     "output_type": "execute_result"
    }
   ],
   "source": [
    "#Q7 Reverse the following list using for loop\n",
    "list1=[90,70,50,60]\n",
    "\n",
    "rev = []\n",
    "for num in list1:\n",
    "    rev.insert(0,num)\n",
    "rev"
   ]
  },
  {
   "cell_type": "code",
   "execution_count": 18,
   "id": "eb5c929c",
   "metadata": {},
   "outputs": [
    {
     "name": "stdout",
     "output_type": "stream",
     "text": [
      "-10\n",
      "-9\n",
      "-8\n",
      "-7\n",
      "-6\n",
      "-5\n",
      "-4\n",
      "-3\n",
      "-2\n",
      "-1\n"
     ]
    }
   ],
   "source": [
    "#Q8 Display numbers from -10 to -1 using for loop [hint use range method]\n",
    "\n",
    "for i in range(-10,0):\n",
    "    print(i)"
   ]
  },
  {
   "cell_type": "code",
   "execution_count": null,
   "id": "68c90362",
   "metadata": {},
   "outputs": [],
   "source": []
  }
 ],
 "metadata": {
  "kernelspec": {
   "display_name": "Python 3",
   "language": "python",
   "name": "python3"
  },
  "language_info": {
   "codemirror_mode": {
    "name": "ipython",
    "version": 3
   },
   "file_extension": ".py",
   "mimetype": "text/x-python",
   "name": "python",
   "nbconvert_exporter": "python",
   "pygments_lexer": "ipython3",
   "version": "3.8.8"
  }
 },
 "nbformat": 4,
 "nbformat_minor": 5
}
