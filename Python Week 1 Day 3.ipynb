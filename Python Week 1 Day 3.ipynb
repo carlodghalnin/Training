{
 "cells": [
  {
   "cell_type": "code",
   "execution_count": 47,
   "id": "32553c1e",
   "metadata": {},
   "outputs": [
    {
     "name": "stdout",
     "output_type": "stream",
     "text": [
      "[1505, 1540, 1575, 1610, 1645, 1680, 1715, 1750, 1785, 1820, 1855, 1890, 1925, 1960, 1995, 2030, 2065, 2100, 2135, 2170, 2205, 2240, 2275, 2310, 2345, 2380, 2415, 2450, 2485, 2520, 2555, 2590, 2625, 2660, 2695]\n"
     ]
    }
   ],
   "source": [
    "#Write a Python program to find those numbers which are divisible by 7 and multiple of 5,\n",
    "#between 1500 and 2700 (both included).\n",
    "\n",
    "sevenfive = []\n",
    "for i in range(1500,2701):\n",
    "    if i%7 == 0 and i%5 == 0:\n",
    "        sevenfive.append(i)\n",
    "\n",
    "print(sevenfive)"
   ]
  },
  {
   "cell_type": "code",
   "execution_count": 4,
   "id": "17702eed",
   "metadata": {},
   "outputs": [
    {
     "name": "stdout",
     "output_type": "stream",
     "text": [
      "Please enter a number between 1 to 93\n",
      "Guess 6 was incorrect.\n",
      "Guess 4 was incorrect.\n",
      "Guess 7 was incorrect.\n",
      "Guess 2 was incorrect.\n",
      "Guess 7 was incorrect.\n",
      "Guess 2 was incorrect.\n",
      "Guess 8 was incorrect.\n",
      "Guess 5 was incorrect.\n",
      "Guess 9 was incorrect.\n",
      "Guess 4 was incorrect.\n",
      "Guess 8 was incorrect.\n",
      "Guess 2 was incorrect.\n",
      "Guess 6 was incorrect.\n",
      "3 is the right number.\n"
     ]
    }
   ],
   "source": [
    "#Write a Python program to guess a number between 1 to 9.\n",
    "\n",
    "import random\n",
    "\n",
    "num = int(input('Please enter a number between 1 to 9'))\n",
    "guess = random.randrange(1,10)\n",
    "\n",
    "while guess != num:\n",
    "    print(f'Guess {guess} was incorrect.')\n",
    "    guess = random.randrange(1,10)\n",
    "print(f'{guess} is the right number.')"
   ]
  },
  {
   "cell_type": "code",
   "execution_count": 8,
   "id": "d8618eec",
   "metadata": {},
   "outputs": [],
   "source": [
    "#Write a Python program to construct the following pattern, using a nested for loop."
   ]
  },
  {
   "cell_type": "code",
   "execution_count": 18,
   "id": "b1a5ab0f",
   "metadata": {},
   "outputs": [
    {
     "name": "stdout",
     "output_type": "stream",
     "text": [
      "# is not a letter.\n"
     ]
    }
   ],
   "source": [
    "#Write a Python program to check whether an alphabet is a vowel or consonant\n",
    "\n",
    "letter = '#'\n",
    "vowels = ('AEIOUaeiou')\n",
    "if len(letter) > 1:\n",
    "    print(f'{letter} is not a single character.')\n",
    "elif letter.isalpha() and letter in vowels:\n",
    "    print(f'{letter} is a vowel.')\n",
    "elif letter.isalpha() and letter not in vowels:\n",
    "    print(f'{letter} is a consonant.')\n",
    "else:\n",
    "    print(f'{letter} is not a letter.')"
   ]
  },
  {
   "cell_type": "code",
   "execution_count": 20,
   "id": "e213b558",
   "metadata": {},
   "outputs": [
    {
     "name": "stdout",
     "output_type": "stream",
     "text": [
      "20\n"
     ]
    }
   ],
   "source": [
    "#Write a Python program to sum of two given integers. However, if the sum is between 15\n",
    "#to 20 it will return 20\n",
    "\n",
    "a = 10\n",
    "b = 5\n",
    "ab = a + b\n",
    "\n",
    "if ab in range(15,21):\n",
    "    print('20')\n",
    "else:\n",
    "    print(ab)"
   ]
  },
  {
   "cell_type": "code",
   "execution_count": 21,
   "id": "d3f812b6",
   "metadata": {},
   "outputs": [
    {
     "data": {
      "text/plain": [
       "1"
      ]
     },
     "execution_count": 21,
     "metadata": {},
     "output_type": "execute_result"
    }
   ],
   "source": [
    "#Write a Python function to find the Max of three numbers\n",
    "\n",
    "def max3(a,b,c):\n",
    "    return max(a,b,c)\n",
    "\n",
    "max3(-2,-5,1)"
   ]
  },
  {
   "cell_type": "code",
   "execution_count": 22,
   "id": "3fdd4b0c",
   "metadata": {},
   "outputs": [
    {
     "data": {
      "text/plain": [
       "'dcba4321'"
      ]
     },
     "execution_count": 22,
     "metadata": {},
     "output_type": "execute_result"
    }
   ],
   "source": [
    "#Write a Python program to reverse a string. \n",
    "sample = \"1234abcd\"\n",
    "\n",
    "sample[::-1]"
   ]
  },
  {
   "cell_type": "code",
   "execution_count": 66,
   "id": "9551c35b",
   "metadata": {},
   "outputs": [
    {
     "name": "stdout",
     "output_type": "stream",
     "text": [
      "\"The quick Brow Fox\" has 3 uppercase and 15 lowercase letters.\n"
     ]
    }
   ],
   "source": [
    "#Write a Python function that accepts a string and calculate the number of upper case\n",
    "#letters and lower case letters. \n",
    "sample = \"The quick Brow Fox\"\n",
    "\n",
    "def counter(txt):\n",
    "    upper = 0\n",
    "    lower = 0\n",
    "    for i in txt:\n",
    "        if i.isupper():\n",
    "            upper += 1\n",
    "        else:\n",
    "            lower += 1\n",
    "    print(f'\"{txt}\" has {upper} uppercase and {lower} lowercase letters.')\n",
    "    \n",
    "counter(sample)"
   ]
  },
  {
   "cell_type": "code",
   "execution_count": 40,
   "id": "f9587379",
   "metadata": {},
   "outputs": [
    {
     "data": {
      "text/plain": [
       "'47 is prime.'"
      ]
     },
     "execution_count": 40,
     "metadata": {},
     "output_type": "execute_result"
    }
   ],
   "source": [
    "#Write a Python function that takes a number as a parameter and check the number is\n",
    "#prime or not.\n",
    "\n",
    "def isprime(num):\n",
    "    for i in range(2,num):\n",
    "        if num % i == 0:\n",
    "            return(f'{num} is not prime')\n",
    "    return(f'{num} is prime.')\n",
    "\n",
    "isprime(47)"
   ]
  },
  {
   "cell_type": "code",
   "execution_count": 48,
   "id": "dc6ff4f4",
   "metadata": {},
   "outputs": [
    {
     "name": "stdout",
     "output_type": "stream",
     "text": [
      "[1, 4, 9, 16, 25, 36, 49, 64, 81, 100, 121, 144, 169, 196, 225, 256, 289, 324, 361, 400, 441, 484, 529, 576, 625, 676, 729, 784, 841, 900]\n"
     ]
    }
   ],
   "source": [
    "#Write a Python function to create and print a list where the values are square of numbers\n",
    "#between 1 and 30 (both included).\n",
    "\n",
    "def squares():\n",
    "    sq = []\n",
    "    for i in range(1,31):\n",
    "        sq.append(i*i)\n",
    "    return sq\n",
    "\n",
    "print(squares())"
   ]
  },
  {
   "cell_type": "code",
   "execution_count": 7,
   "id": "94ad122c",
   "metadata": {},
   "outputs": [
    {
     "name": "stdout",
     "output_type": "stream",
     "text": [
      "<__main__.Student object at 0x0000026029CF89A0>\n",
      "<__main__.Marks object at 0x0000026029CF8A90>\n",
      "True\n",
      "True\n"
     ]
    }
   ],
   "source": [
    "#Write a Python program to create two empty classes, Student and Marks. Now create\n",
    "#some instances and check whether they are instances of the said classes or not. Also,\n",
    "#check whether the said classes are subclasses of the built-in object class or not.\n",
    "\n",
    "class Student:\n",
    "    pass\n",
    "\n",
    "class Marks:\n",
    "    pass\n",
    "\n",
    "mark = Student()\n",
    "grade = Marks()\n",
    "\n",
    "print(mark)\n",
    "print(grade)\n",
    "print(issubclass(Student,object))\n",
    "print(issubclass(Marks,object))"
   ]
  },
  {
   "cell_type": "code",
   "execution_count": 46,
   "id": "986e4170",
   "metadata": {},
   "outputs": [
    {
     "name": "stdout",
     "output_type": "stream",
     "text": [
      "XIX\n"
     ]
    }
   ],
   "source": [
    "#Write a Python class to convert an integer to a roman numeral.\n",
    "\n",
    "class Romanized:\n",
    "    def __init__(self,num):\n",
    "        self.num = num\n",
    "        \n",
    "    def roman(self):\n",
    "        if self.num == 4:\n",
    "            return 'IV'\n",
    "        numbers = [1000,500,100,50,10,5,1]\n",
    "        letters = ['M','D','C','L','X','V','I']\n",
    "        rom = ''\n",
    "        for number, letter in zip(numbers, letters):\n",
    "            if number == 1000:\n",
    "                rom += (self.num//number * letter)\n",
    "            elif number != 1 and (self.num - number)//numbers[numbers.index(number)+1] == 4:\n",
    "                rom += (letters[letters.index(letter)+1] + letters[letters.index(letter)-1])\n",
    "            elif self.num//number in range (1,4):\n",
    "                rom += (self.num//number * letter)\n",
    "            self.num -= (self.num//number * number)\n",
    "        return rom\n",
    "    \n",
    "    \n",
    "iv = Romanized(19)\n",
    "print(iv.roman())"
   ]
  },
  {
   "cell_type": "code",
   "execution_count": 6,
   "id": "42871a1f",
   "metadata": {},
   "outputs": [
    {
     "data": {
      "text/plain": [
       "'.py hello'"
      ]
     },
     "execution_count": 6,
     "metadata": {},
     "output_type": "execute_result"
    }
   ],
   "source": [
    "#Write a Python class to reverse a string word by word. \n",
    "#'hello .py'\n",
    "\n",
    "class Reversal:\n",
    "    def __init__(self,text):\n",
    "        self.text = text\n",
    "    \n",
    "    def rev(self):\n",
    "        words = self.text.split(' ')\n",
    "        rv = ''\n",
    "        for word in words[::-1]:\n",
    "            rv += word + ' '\n",
    "        return rv.rstrip()\n",
    "    \n",
    "inp = Reversal('hello .py')\n",
    "inp.rev()"
   ]
  },
  {
   "cell_type": "code",
   "execution_count": 64,
   "id": "73bb5832",
   "metadata": {},
   "outputs": [
    {
     "data": {
      "text/plain": [
       "100"
      ]
     },
     "execution_count": 64,
     "metadata": {},
     "output_type": "execute_result"
    }
   ],
   "source": [
    "#Write a Python class named Rectangle constructed by a length and width and a method\n",
    "#which will compute the area of a rectangle.\n",
    "\n",
    "class Rectangle:\n",
    "    def __init__(self,length,width):\n",
    "        self.length = length\n",
    "        self.width = width\n",
    "    \n",
    "    def area(self):\n",
    "        return self.length * self.width\n",
    "    \n",
    "tenner = Rectangle(10,10)\n",
    "tenner.area()"
   ]
  },
  {
   "cell_type": "code",
   "execution_count": 8,
   "id": "1a0f3b26",
   "metadata": {},
   "outputs": [
    {
     "name": "stdout",
     "output_type": "stream",
     "text": [
      "434 4\n"
     ]
    }
   ],
   "source": [
    "a = 934%500\n",
    "b = (934-500)//100\n",
    "print(a,b)"
   ]
  },
  {
   "cell_type": "code",
   "execution_count": null,
   "id": "14390eb5",
   "metadata": {},
   "outputs": [],
   "source": []
  }
 ],
 "metadata": {
  "kernelspec": {
   "display_name": "Python 3",
   "language": "python",
   "name": "python3"
  },
  "language_info": {
   "codemirror_mode": {
    "name": "ipython",
    "version": 3
   },
   "file_extension": ".py",
   "mimetype": "text/x-python",
   "name": "python",
   "nbconvert_exporter": "python",
   "pygments_lexer": "ipython3",
   "version": "3.8.8"
  }
 },
 "nbformat": 4,
 "nbformat_minor": 5
}
