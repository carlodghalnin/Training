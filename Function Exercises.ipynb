{
 "cells": [
  {
   "cell_type": "code",
   "execution_count": 1,
   "id": "ed2bde2e",
   "metadata": {},
   "outputs": [
    {
     "data": {
      "text/plain": [
       "2"
      ]
     },
     "execution_count": 1,
     "metadata": {},
     "output_type": "execute_result"
    }
   ],
   "source": [
    "#Q1 Write Python function that takes two inputs\n",
    "#and return their sum value\n",
    "\n",
    "def adder(a,b):\n",
    "    return a+b\n",
    "\n",
    "adder(1,1)"
   ]
  },
  {
   "cell_type": "code",
   "execution_count": 15,
   "id": "5f6a54c9",
   "metadata": {},
   "outputs": [
    {
     "name": "stdout",
     "output_type": "stream",
     "text": [
      "Help on function murica in module __main__:\n",
      "\n",
      "murica(temp)\n",
      "    Converts given temperature into freedom units.\n",
      "\n",
      "None\n"
     ]
    },
    {
     "data": {
      "text/plain": [
       "68.0"
      ]
     },
     "execution_count": 15,
     "metadata": {},
     "output_type": "execute_result"
    }
   ],
   "source": [
    "#Q2 Write Python function the takes a celsius temprature\n",
    "#and converts it into fahrenheit\n",
    "\n",
    "def murica(temp):\n",
    "    '''\n",
    "    Converts given temperature into freedom units.\n",
    "    '''\n",
    "    \n",
    "    return temp*9/5 + 32\n",
    "\n",
    "print(help(murica))\n",
    "murica(20)"
   ]
  },
  {
   "cell_type": "code",
   "execution_count": 3,
   "id": "1ef35f3d",
   "metadata": {},
   "outputs": [
    {
     "data": {
      "text/plain": [
       "1"
      ]
     },
     "execution_count": 3,
     "metadata": {},
     "output_type": "execute_result"
    }
   ],
   "source": [
    "#Q3 Write a Python function to find the Max of three numbers\n",
    "\n",
    "def max3(a,b,c):\n",
    "    return max(a,b,c)\n",
    "\n",
    "max3(-2,-5,1)"
   ]
  },
  {
   "cell_type": "code",
   "execution_count": 7,
   "id": "9ddc02c2",
   "metadata": {},
   "outputs": [
    {
     "data": {
      "text/plain": [
       "False"
      ]
     },
     "execution_count": 7,
     "metadata": {},
     "output_type": "execute_result"
    }
   ],
   "source": [
    "#Q4 Write a Python function to check whether a number\n",
    "#is in a given range [5,12]\n",
    "\n",
    "def inrange(num,start,end):\n",
    "    return num in range(start,end)\n",
    "\n",
    "inrange(1,5,12)"
   ]
  },
  {
   "cell_type": "code",
   "execution_count": 12,
   "id": "400ce370",
   "metadata": {},
   "outputs": [
    {
     "data": {
      "text/plain": [
       "[1, 2, 4, 5]"
      ]
     },
     "execution_count": 12,
     "metadata": {},
     "output_type": "execute_result"
    }
   ],
   "source": [
    "#Q5 Write a Python function that takes a list\n",
    "#and returns a new list with unique elements of the first\n",
    "Sample_List = [1,2,3,3,3,3,4,5]\n",
    "    \n",
    "def uniques(lst):\n",
    "    unq = []\n",
    "    rep = []\n",
    "    for num in lst:\n",
    "        if num in rep:\n",
    "            continue\n",
    "        elif num in unq:\n",
    "            unq.remove(num)\n",
    "            rep.append(num)\n",
    "        else:\n",
    "            unq.append(num)\n",
    "    return unq\n",
    "\n",
    "uniques(Sample_List)"
   ]
  },
  {
   "cell_type": "code",
   "execution_count": 14,
   "id": "c1a646d5",
   "metadata": {},
   "outputs": [
    {
     "name": "stdout",
     "output_type": "stream",
     "text": [
      "True\n",
      "False\n",
      "True\n"
     ]
    }
   ],
   "source": [
    "#Q6 Given a list of numbers, return True if first\n",
    "#and last number of a list is same\n",
    "list1 = [1,2,5,4,1]\n",
    "list2 = [5,6,3,2,1]\n",
    "list3 = [88,44,55,66,77,88]\n",
    "\n",
    "def alphaomega(lst):\n",
    "    return lst[0] == lst[len(lst) - 1]\n",
    "\n",
    "print(alphaomega(list1))\n",
    "print(alphaomega(list2))\n",
    "print(alphaomega(list3))"
   ]
  },
  {
   "cell_type": "code",
   "execution_count": null,
   "id": "7fc15c95",
   "metadata": {},
   "outputs": [],
   "source": []
  }
 ],
 "metadata": {
  "kernelspec": {
   "display_name": "Python 3",
   "language": "python",
   "name": "python3"
  },
  "language_info": {
   "codemirror_mode": {
    "name": "ipython",
    "version": 3
   },
   "file_extension": ".py",
   "mimetype": "text/x-python",
   "name": "python",
   "nbconvert_exporter": "python",
   "pygments_lexer": "ipython3",
   "version": "3.8.8"
  }
 },
 "nbformat": 4,
 "nbformat_minor": 5
}
