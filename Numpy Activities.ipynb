{
 "cells": [
  {
   "cell_type": "code",
   "execution_count": 10,
   "id": "de6fd06b",
   "metadata": {},
   "outputs": [
    {
     "name": "stdout",
     "output_type": "stream",
     "text": [
      "\"Equal to\" as [False False False].\n",
      "\"Greater than\" evaluates as [ True  True  True].\n",
      "\"Greater than or equal to\" evaluates as [ True  True  True].\n",
      "\"Less than\" evaluates as [False False False].\n",
      "\"Less than or equal to\" evaluates as [False False False].\n"
     ]
    }
   ],
   "source": [
    "import numpy as np\n",
    "\n",
    "#1. Write a NumPy program to create an element-wise comparison (greater,\n",
    "#greater_equal, less and less_equal) of two given arrays.\n",
    "\n",
    "#Assuming arrays are of same shape.\n",
    "\n",
    "a = np.array([3,4,5])\n",
    "b = np.array([1,2,3])\n",
    "\n",
    "print(f'\"Equal to\" as {np.equal(a,b)}.')\n",
    "print(f'\"Greater than\" evaluates as {np.greater(a,b)}.')\n",
    "print(f'\"Greater than or equal to\" evaluates as {np.greater_equal(a,b)}.')\n",
    "print(f'\"Less than\" evaluates as {np.less(a,b)}.')\n",
    "print(f'\"Less than or equal to\" evaluates as {np.less_equal(a,b)}.')"
   ]
  },
  {
   "cell_type": "code",
   "execution_count": 58,
   "id": "4b72217b",
   "metadata": {},
   "outputs": [
    {
     "data": {
      "text/plain": [
       "(array([[0., 0., 0., 0., 0., 0., 0., 0., 0., 0.]]),\n",
       " array([[1., 1., 1., 1., 1., 1., 1., 1., 1., 1.]]),\n",
       " array([[5, 5, 5, 5, 5, 5, 5, 5, 5, 5]]))"
      ]
     },
     "execution_count": 58,
     "metadata": {},
     "output_type": "execute_result"
    }
   ],
   "source": [
    "#2. Write a NumPy program to create an array of 10 zeros,10 ones, 10 fives.\n",
    "\n",
    "z = np.zeros((1,10))\n",
    "o = np.ones((1,10))\n",
    "f = np.full((1,10),5)\n",
    "z, o, f"
   ]
  },
  {
   "cell_type": "code",
   "execution_count": 22,
   "id": "1bd815ef",
   "metadata": {},
   "outputs": [
    {
     "data": {
      "text/plain": [
       "0.7110654196583878"
      ]
     },
     "execution_count": 22,
     "metadata": {},
     "output_type": "execute_result"
    }
   ],
   "source": [
    "#3. Write a NumPy program to generate a random number between 0 and 1\n",
    "n = np.random.rand()\n",
    "n"
   ]
  },
  {
   "cell_type": "code",
   "execution_count": 31,
   "id": "850b2647",
   "metadata": {},
   "outputs": [
    {
     "data": {
      "text/plain": [
       "array([[19.99107513, 17.92550063, 10.08104881, 10.00398931],\n",
       "       [15.59623269, 11.13257794, 12.2906797 , 10.18109612],\n",
       "       [17.1267485 , 13.36452646, 13.61076291, 13.32408349]])"
      ]
     },
     "execution_count": 31,
     "metadata": {},
     "output_type": "execute_result"
    }
   ],
   "source": [
    "#4. Write a NumPy program to create a 3x4 matrix filled with values from 10 to\n",
    "21.\n",
    "\n",
    "ttt = (np.random.rand(3,4)*10) + 10\n",
    "ttt"
   ]
  },
  {
   "cell_type": "code",
   "execution_count": 40,
   "id": "79956df9",
   "metadata": {},
   "outputs": [
    {
     "data": {
      "text/plain": [
       "dtype('float64')"
      ]
     },
     "execution_count": 40,
     "metadata": {},
     "output_type": "execute_result"
    }
   ],
   "source": [
    "#5. Write a NumPy program to convert an array to a float type.\n",
    "\n",
    "orig = np.asfarray([1, 2, 3, 4])\n",
    "orig.dtype"
   ]
  },
  {
   "cell_type": "code",
   "execution_count": 43,
   "id": "6f4f0a9f",
   "metadata": {},
   "outputs": [
    {
     "data": {
      "text/plain": [
       "(array([1, 2, 3]),\n",
       " array([1, 2, 3]),\n",
       " array(3.3),\n",
       " array({1: 2.0, 2: 4.0}, dtype=object))"
      ]
     },
     "execution_count": 43,
     "metadata": {},
     "output_type": "execute_result"
    }
   ],
   "source": [
    "#6. Write a NumPy program to convert a list and tuple into arrays\n",
    "\n",
    "lst = [1,2,3]\n",
    "tup = (1,2,3)\n",
    "flo = 3.3\n",
    "dic = {1:2.0,2:4.0}\n",
    "\n",
    "la = np.asarray(lst)\n",
    "ta = np.asarray(tup)\n",
    "fa = np.asarray(flo)\n",
    "da = np.asarray(dic)\n",
    "la, ta, fa, da"
   ]
  },
  {
   "cell_type": "code",
   "execution_count": 46,
   "id": "292e5c48",
   "metadata": {},
   "outputs": [
    {
     "data": {
      "text/plain": [
       "array([10, 40])"
      ]
     },
     "execution_count": 46,
     "metadata": {},
     "output_type": "execute_result"
    }
   ],
   "source": [
    "#7. Write a NumPy program to find common values between two arrays. \n",
    "array1 = np.array([ 0, 10, 20, 40, 60])\n",
    "array2 = np.array([10, 30, 40])\n",
    "\n",
    "array = np.intersect1d(array1,array2)\n",
    "array"
   ]
  },
  {
   "cell_type": "code",
   "execution_count": 63,
   "id": "39236644",
   "metadata": {},
   "outputs": [
    {
     "name": "stdout",
     "output_type": "stream",
     "text": [
      "[1 2 3 4 5 6] has max 6 with index 5.\n",
      "[1 2 3 4 5 6] has min 1 with index 0.\n"
     ]
    }
   ],
   "source": [
    "#8. Write a NumPy program to find the indices of the maximum and minimum\n",
    "#values along the given axis of an array. \n",
    "\n",
    "array = np.array([1, 2, 3, 4, 5, 6])\n",
    "print(f'{array} has max {array.max()} with index {np.argmax(array)}.')\n",
    "print(f'{array} has min {array.min()} with index {np.argmin(array)}.')"
   ]
  },
  {
   "cell_type": "code",
   "execution_count": 52,
   "id": "2bbe0339",
   "metadata": {},
   "outputs": [
    {
     "data": {
      "text/plain": [
       "-2.9999999999999996"
      ]
     },
     "execution_count": 52,
     "metadata": {},
     "output_type": "execute_result"
    }
   ],
   "source": [
    "#9. Write a NumPy program to compute the determinant of a given square\n",
    "#array.\n",
    "\n",
    "sq = np.array([[1,2],[2,1]])\n",
    "np.linalg.det(sq)"
   ]
  },
  {
   "cell_type": "code",
   "execution_count": 53,
   "id": "f5a0128c",
   "metadata": {},
   "outputs": [
    {
     "data": {
      "text/plain": [
       "array([[0, 0],\n",
       "       [0, 4]])"
      ]
     },
     "execution_count": 53,
     "metadata": {},
     "output_type": "execute_result"
    }
   ],
   "source": [
    "#10. Write a NumPy program to compute the multiplication of two given \n",
    "#matrixes.\n",
    "\n",
    "a = np.array([[0,2],[3,4]])\n",
    "b = np.array([[1,0],[0,1]])\n",
    "a*b"
   ]
  },
  {
   "cell_type": "code",
   "execution_count": 57,
   "id": "8a18fb12",
   "metadata": {},
   "outputs": [
    {
     "data": {
      "text/plain": [
       "array([(b'Pit', 5, 40.11), (b'Paul', 5, 42.1 ), (b'James', 5, 48.5 ),\n",
       "       (b'Nail', 6, 52.5 )],\n",
       "      dtype=[('name', 'S10'), ('class', '<i4'), ('height', '<f8')])"
      ]
     },
     "execution_count": 57,
     "metadata": {},
     "output_type": "execute_result"
    }
   ],
   "source": [
    "#11. Write a NumPy program to create a structured array from given\n",
    "#student name, height, class and their data types. Now sort the array on\n",
    "#height. \n",
    "\n",
    "dtype = [('name','S10'),('class',int),('height',float)]\n",
    "vals = [(b'James', 5, 48.5 ), \n",
    "         (b'Nail', 6, 52.5 ), \n",
    "         (b'Paul', 5, 42.1 ), \n",
    "         (b'Pit', 5, 40.11 )]\n",
    "array = np.array(vals, dtype=dtype)\n",
    "sarray = np.sort(array, order='height')\n",
    "sarray"
   ]
  },
  {
   "cell_type": "code",
   "execution_count": 71,
   "id": "83d70ec3",
   "metadata": {},
   "outputs": [
    {
     "data": {
      "text/plain": [
       "array([0, 3, 4, 6, 1, 5, 2], dtype=int64)"
      ]
     },
     "execution_count": 71,
     "metadata": {},
     "output_type": "execute_result"
    }
   ],
   "source": [
    "#12. Write a NumPy program to get the indices of the sorted elements of\n",
    "#a given array. \n",
    "array = np.array([1023, 5202, 6230, 1671, 1682, 5241, 4532])\n",
    "\n",
    "sarray = np.argsort(array)\n",
    "sarray"
   ]
  },
  {
   "cell_type": "code",
   "execution_count": 66,
   "id": "adaaa340",
   "metadata": {},
   "outputs": [
    {
     "data": {
      "text/plain": [
       "array(['Python', 'PHP', 'Java', 'C++'], dtype='<U6')"
      ]
     },
     "execution_count": 66,
     "metadata": {},
     "output_type": "execute_result"
    }
   ],
   "source": [
    "#13. Write a NumPy program to concatenate element-wise two arrays of\n",
    "#string. \n",
    "array1 = np.array(['Python', 'PHP'])\n",
    "array2 = np.array(['Java', 'C++'])\n",
    "\n",
    "carray = np.concatenate((array1,array2))\n",
    "carray"
   ]
  },
  {
   "cell_type": "code",
   "execution_count": 68,
   "id": "beade447",
   "metadata": {},
   "outputs": [
    {
     "data": {
      "text/plain": [
       "array(['Python', 'Python', 'Python', 'PHP', 'PHP', 'PHP', 'Java', 'Java',\n",
       "       'Java', 'C++', 'C++', 'C++'], dtype='<U6')"
      ]
     },
     "execution_count": 68,
     "metadata": {},
     "output_type": "execute_result"
    }
   ],
   "source": [
    "#14. Write a NumPy program to repeat all the elements three times of a\n",
    "#given array of string \n",
    "#Expected Output:\n",
    "array = np.array(['Python', 'PHP', 'Java', 'C++'])\n",
    "\n",
    "arrr = np.repeat(array,3)\n",
    "arrr"
   ]
  },
  {
   "cell_type": "code",
   "execution_count": 69,
   "id": "130492fd",
   "metadata": {},
   "outputs": [
    {
     "data": {
      "text/plain": [
       "array([list(['Python']), list(['PHP']), list(['Java']), list(['C++'])],\n",
       "      dtype=object)"
      ]
     },
     "execution_count": 69,
     "metadata": {},
     "output_type": "execute_result"
    }
   ],
   "source": [
    "#15. Write a NumPy program to split the element of a given array with\n",
    "#spaces. \n",
    "array = np.array(['Python', 'PHP', 'Java', 'C++'])\n",
    "\n",
    "spaced = np.char.split(array)\n",
    "spaced"
   ]
  }
 ],
 "metadata": {
  "kernelspec": {
   "display_name": "Python 3",
   "language": "python",
   "name": "python3"
  },
  "language_info": {
   "codemirror_mode": {
    "name": "ipython",
    "version": 3
   },
   "file_extension": ".py",
   "mimetype": "text/x-python",
   "name": "python",
   "nbconvert_exporter": "python",
   "pygments_lexer": "ipython3",
   "version": "3.8.8"
  }
 },
 "nbformat": 4,
 "nbformat_minor": 5
}
