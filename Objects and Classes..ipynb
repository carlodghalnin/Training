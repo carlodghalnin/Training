{
 "cells": [
  {
   "cell_type": "markdown",
   "id": "3b23463c",
   "metadata": {},
   "source": [
    "Create a car blueprint (class)."
   ]
  },
  {
   "cell_type": "code",
   "execution_count": 2,
   "id": "ae1f4b41",
   "metadata": {},
   "outputs": [],
   "source": [
    "class Car:\n",
    "    def __init__(self,color,fuel=0):\n",
    "        self.color = color\n",
    "        self.fuel = fuel\n",
    "    \n",
    "    def refuel(self,gas):\n",
    "        self.fuel = self.fuel + gas"
   ]
  },
  {
   "cell_type": "markdown",
   "id": "7f84a7d5",
   "metadata": {},
   "source": [
    "Build a car."
   ]
  },
  {
   "cell_type": "code",
   "execution_count": 3,
   "id": "93f8e262",
   "metadata": {},
   "outputs": [],
   "source": [
    "starter = Car('red')"
   ]
  },
  {
   "cell_type": "markdown",
   "id": "59bea800",
   "metadata": {},
   "source": [
    "Check features."
   ]
  },
  {
   "cell_type": "code",
   "execution_count": 4,
   "id": "77c7d637",
   "metadata": {},
   "outputs": [
    {
     "data": {
      "text/plain": [
       "['__class__',\n",
       " '__delattr__',\n",
       " '__dict__',\n",
       " '__dir__',\n",
       " '__doc__',\n",
       " '__eq__',\n",
       " '__format__',\n",
       " '__ge__',\n",
       " '__getattribute__',\n",
       " '__gt__',\n",
       " '__hash__',\n",
       " '__init__',\n",
       " '__init_subclass__',\n",
       " '__le__',\n",
       " '__lt__',\n",
       " '__module__',\n",
       " '__ne__',\n",
       " '__new__',\n",
       " '__reduce__',\n",
       " '__reduce_ex__',\n",
       " '__repr__',\n",
       " '__setattr__',\n",
       " '__sizeof__',\n",
       " '__str__',\n",
       " '__subclasshook__',\n",
       " '__weakref__',\n",
       " 'color',\n",
       " 'fuel',\n",
       " 'refuel']"
      ]
     },
     "execution_count": 4,
     "metadata": {},
     "output_type": "execute_result"
    }
   ],
   "source": [
    "dir(starter)"
   ]
  },
  {
   "cell_type": "markdown",
   "id": "2e815f5f",
   "metadata": {},
   "source": [
    "Check fuel level gauge (call attribute)."
   ]
  },
  {
   "cell_type": "code",
   "execution_count": 5,
   "id": "d7e052c3",
   "metadata": {},
   "outputs": [
    {
     "data": {
      "text/plain": [
       "0"
      ]
     },
     "execution_count": 5,
     "metadata": {},
     "output_type": "execute_result"
    }
   ],
   "source": [
    "starter.fuel"
   ]
  },
  {
   "cell_type": "markdown",
   "id": "383753da",
   "metadata": {},
   "source": [
    "Refuel by going to a gas station (method)."
   ]
  },
  {
   "cell_type": "code",
   "execution_count": 6,
   "id": "3eafe8c4",
   "metadata": {},
   "outputs": [
    {
     "data": {
      "text/plain": [
       "100"
      ]
     },
     "execution_count": 6,
     "metadata": {},
     "output_type": "execute_result"
    }
   ],
   "source": [
    "starter.refuel(100)\n",
    "starter.fuel"
   ]
  },
  {
   "cell_type": "markdown",
   "id": "341325b9",
   "metadata": {},
   "source": [
    "Refuel manually with a jerry can (direct attribute access)."
   ]
  },
  {
   "cell_type": "code",
   "execution_count": 7,
   "id": "66fd05eb",
   "metadata": {},
   "outputs": [
    {
     "data": {
      "text/plain": [
       "150"
      ]
     },
     "execution_count": 7,
     "metadata": {},
     "output_type": "execute_result"
    }
   ],
   "source": [
    "starter.fuel = 150\n",
    "starter.fuel"
   ]
  },
  {
   "cell_type": "markdown",
   "id": "40634e5e",
   "metadata": {},
   "source": [
    "Everything in Python is an object."
   ]
  },
  {
   "cell_type": "code",
   "execution_count": 1,
   "id": "5eddf5fb",
   "metadata": {},
   "outputs": [
    {
     "data": {
      "text/plain": [
       "['__add__',\n",
       " '__class__',\n",
       " '__contains__',\n",
       " '__delattr__',\n",
       " '__delitem__',\n",
       " '__dir__',\n",
       " '__doc__',\n",
       " '__eq__',\n",
       " '__format__',\n",
       " '__ge__',\n",
       " '__getattribute__',\n",
       " '__getitem__',\n",
       " '__gt__',\n",
       " '__hash__',\n",
       " '__iadd__',\n",
       " '__imul__',\n",
       " '__init__',\n",
       " '__init_subclass__',\n",
       " '__iter__',\n",
       " '__le__',\n",
       " '__len__',\n",
       " '__lt__',\n",
       " '__mul__',\n",
       " '__ne__',\n",
       " '__new__',\n",
       " '__reduce__',\n",
       " '__reduce_ex__',\n",
       " '__repr__',\n",
       " '__reversed__',\n",
       " '__rmul__',\n",
       " '__setattr__',\n",
       " '__setitem__',\n",
       " '__sizeof__',\n",
       " '__str__',\n",
       " '__subclasshook__',\n",
       " 'append',\n",
       " 'clear',\n",
       " 'copy',\n",
       " 'count',\n",
       " 'extend',\n",
       " 'index',\n",
       " 'insert',\n",
       " 'pop',\n",
       " 'remove',\n",
       " 'reverse',\n",
       " 'sort']"
      ]
     },
     "execution_count": 1,
     "metadata": {},
     "output_type": "execute_result"
    }
   ],
   "source": [
    "lst = [12,21]\n",
    "dir(lst)"
   ]
  },
  {
   "cell_type": "code",
   "execution_count": 2,
   "id": "e048e584",
   "metadata": {},
   "outputs": [
    {
     "data": {
      "text/plain": [
       "<method-wrapper '__iter__' of list object at 0x000002E3DEA4D400>"
      ]
     },
     "execution_count": 2,
     "metadata": {},
     "output_type": "execute_result"
    }
   ],
   "source": [
    "lst.__iter__"
   ]
  },
  {
   "cell_type": "markdown",
   "id": "4d7e4a51",
   "metadata": {},
   "source": []
  }
 ],
 "metadata": {
  "kernelspec": {
   "display_name": "Python 3",
   "language": "python",
   "name": "python3"
  },
  "language_info": {
   "codemirror_mode": {
    "name": "ipython",
    "version": 3
   },
   "file_extension": ".py",
   "mimetype": "text/x-python",
   "name": "python",
   "nbconvert_exporter": "python",
   "pygments_lexer": "ipython3",
   "version": "3.8.8"
  }
 },
 "nbformat": 4,
 "nbformat_minor": 5
}
