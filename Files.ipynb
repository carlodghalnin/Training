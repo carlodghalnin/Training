{
 "cells": [
  {
   "cell_type": "markdown",
   "id": "a3519151",
   "metadata": {},
   "source": [
    "1. Open the file romeo.txt and read it line by line. For each line, split the line into a list of words\n",
    "using the split() method. The program should build a list of words. For each word on each line\n",
    "check to see if the word is already in the list and if not append it to the list. When the program\n",
    "completes, sort and print the resulting words in alphabetical order.\n",
    "\n",
    "You can download the sample data at http://www.py4e.com/code3/romeo.txt"
   ]
  },
  {
   "cell_type": "code",
   "execution_count": 20,
   "id": "75d5a3ba",
   "metadata": {},
   "outputs": [
    {
     "name": "stdout",
     "output_type": "stream",
     "text": [
      "['already', 'and', 'arise', 'breaks', 'but', 'east', 'envious', 'fair', 'grief', 'is', 'it', 'juliet', 'kill', 'light', 'moon', 'pale', 'sick', 'soft', 'sun', 'the', 'through', 'what', 'who', 'window', 'with', 'yonder']\n"
     ]
    }
   ],
   "source": [
    "words = []\n",
    "with open('romeo.txt','r') as romeo:\n",
    "    for line in romeo:\n",
    "        words.extend(line.split())\n",
    "words = [word.lower() for word in list(set(words))]\n",
    "words.sort()\n",
    "print(words)"
   ]
  },
  {
   "cell_type": "markdown",
   "id": "75b34e2a",
   "metadata": {},
   "source": [
    "2. Open the file mbox-short.txt and read it line by line. When you find a line that starts with 'From';\n",
    "like the following line:\n",
    "From stephen.marquard@uct.ac.za Sat Jan 5 09:14:16 2008\n",
    "        \n",
    "You will parse the From line using split() and print out the second word in the line (i.e. the entire\n",
    "address of the person who sent the message). Then print out a count at the end.\n",
    "\n",
    "Hint: make sure not to include the lines that start with 'From:'. Also look at the last line of the\n",
    "sample output to see how to print the count.\n",
    "\n",
    "You can download the sample data at http://www.py4e.com/code3/mbox-short.txt"
   ]
  },
  {
   "cell_type": "code",
   "execution_count": 24,
   "id": "bb401f66",
   "metadata": {},
   "outputs": [
    {
     "name": "stdout",
     "output_type": "stream",
     "text": [
      "stephen.marquard@uct.ac.za\n",
      "stephen.marquard@uct.ac.za\n",
      "louis@media.berkeley.edu\n",
      "louis@media.berkeley.edu\n",
      "zqian@umich.edu\n",
      "zqian@umich.edu\n",
      "rjlowe@iupui.edu\n",
      "rjlowe@iupui.edu\n",
      "zqian@umich.edu\n",
      "zqian@umich.edu\n",
      "rjlowe@iupui.edu\n",
      "rjlowe@iupui.edu\n",
      "cwen@iupui.edu\n",
      "cwen@iupui.edu\n",
      "cwen@iupui.edu\n",
      "cwen@iupui.edu\n",
      "gsilver@umich.edu\n",
      "gsilver@umich.edu\n",
      "gsilver@umich.edu\n",
      "gsilver@umich.edu\n",
      "zqian@umich.edu\n",
      "zqian@umich.edu\n",
      "gsilver@umich.edu\n",
      "gsilver@umich.edu\n",
      "wagnermr@iupui.edu\n",
      "wagnermr@iupui.edu\n",
      "zqian@umich.edu\n",
      "zqian@umich.edu\n",
      "antranig@caret.cam.ac.uk\n",
      "antranig@caret.cam.ac.uk\n",
      "gopal.ramasammycook@gmail.com\n",
      "gopal.ramasammycook@gmail.com\n",
      "david.horwitz@uct.ac.za\n",
      "david.horwitz@uct.ac.za\n",
      "david.horwitz@uct.ac.za\n",
      "david.horwitz@uct.ac.za\n",
      "david.horwitz@uct.ac.za\n",
      "david.horwitz@uct.ac.za\n",
      "david.horwitz@uct.ac.za\n",
      "david.horwitz@uct.ac.za\n",
      "stephen.marquard@uct.ac.za\n",
      "stephen.marquard@uct.ac.za\n",
      "louis@media.berkeley.edu\n",
      "louis@media.berkeley.edu\n",
      "louis@media.berkeley.edu\n",
      "louis@media.berkeley.edu\n",
      "ray@media.berkeley.edu\n",
      "ray@media.berkeley.edu\n",
      "cwen@iupui.edu\n",
      "cwen@iupui.edu\n",
      "cwen@iupui.edu\n",
      "cwen@iupui.edu\n",
      "cwen@iupui.edu\n",
      "cwen@iupui.edu\n",
      "54\n"
     ]
    }
   ],
   "source": [
    "adds = 0\n",
    "with open('mbox-short.txt','r') as mbox:\n",
    "    for line in mbox:\n",
    "        if 'From' in line:\n",
    "            adds += 1\n",
    "            print(line.split()[1])\n",
    "print(adds)"
   ]
  },
  {
   "cell_type": "markdown",
   "id": "6c75fdd3",
   "metadata": {},
   "source": [
    "3. Write a program to read through the mbox-short.txt and figure out who has sent the greatest\n",
    "number of mail messages. The program looks for 'From'; lines and takes the second word of\n",
    "those lines as the person who sent the mail. The program creates a Python dictionary that maps\n",
    "the sender's mail address to a count of the number of times they appear in the file. After the\n",
    "dictionary is produced, the program reads through the dictionary using a maximum loop to find\n",
    "the most prolific committer."
   ]
  },
  {
   "cell_type": "code",
   "execution_count": 35,
   "id": "285e0f11",
   "metadata": {},
   "outputs": [
    {
     "name": "stdout",
     "output_type": "stream",
     "text": [
      "cwen@iupui.edu has sent the greatest number of messages: 10.\n"
     ]
    }
   ],
   "source": [
    "adds = {}\n",
    "with open('mbox-short.txt','r') as mbox:\n",
    "    for line in mbox:\n",
    "        if 'From' in line and line.split()[1] not in adds.keys():\n",
    "            adds[line.split()[1]] = 1\n",
    "        elif 'From' in line and line.split()[1] in adds.keys():\n",
    "            adds[line.split()[1]] += 1\n",
    "\n",
    "record = 0\n",
    "for person, count in zip(adds.keys(), adds.values()):\n",
    "    if count > record:\n",
    "        prolific = person\n",
    "        record = count\n",
    "print(f'{prolific} has sent the greatest number of messages: {record}.')"
   ]
  },
  {
   "cell_type": "markdown",
   "id": "43ef1353",
   "metadata": {},
   "source": [
    "4. Write a program to read through the mbox-short.txt and figure out the distribution by hour of\n",
    "the day for each of the messages. You can pull the hour out from the 'From'; line by finding the\n",
    "time and then splitting the string a second time using a colon.\n",
    "\n",
    "From stephen.marquard@uct.ac.za Sat Jan 5 09:14:16 2008\n",
    "\n",
    "Once you have accumulated the counts for each hour, print out the counts, sorted by hour as\n",
    "shown below.\n",
    "09 14"
   ]
  },
  {
   "cell_type": "code",
   "execution_count": 53,
   "id": "bbcbffd2",
   "metadata": {},
   "outputs": [
    {
     "name": "stdout",
     "output_type": "stream",
     "text": [
      "[('04', 3), ('06', 1), ('07', 1), ('09', 2), ('10', 3), ('11', 6), ('14', 1), ('15', 2), ('16', 4), ('17', 2), ('18', 1), ('19', 1)]\n"
     ]
    }
   ],
   "source": [
    "hours = {}\n",
    "with open('mbox-short.txt','r') as mbox:\n",
    "    for line in mbox:\n",
    "        if 'From' in line and len(line.split()) > 2:\n",
    "            hour = line.split()[5].split(':')[0]\n",
    "            if hour not in hours.keys():\n",
    "                hours[hour] = 1\n",
    "            else:\n",
    "                hours[hour] += 1\n",
    "print(sorted(hours.items()))               "
   ]
  }
 ],
 "metadata": {
  "kernelspec": {
   "display_name": "Python 3",
   "language": "python",
   "name": "python3"
  },
  "language_info": {
   "codemirror_mode": {
    "name": "ipython",
    "version": 3
   },
   "file_extension": ".py",
   "mimetype": "text/x-python",
   "name": "python",
   "nbconvert_exporter": "python",
   "pygments_lexer": "ipython3",
   "version": "3.8.8"
  }
 },
 "nbformat": 4,
 "nbformat_minor": 5
}
